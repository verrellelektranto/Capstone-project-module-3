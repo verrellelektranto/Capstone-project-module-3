{
 "cells": [
  {
   "cell_type": "markdown",
   "id": "b5015061",
   "metadata": {},
   "source": [
    "## OCBC BANK MARKETING CAMPAIGN\n",
    "#### Verrell Elektranto - Head of Data scientist  & Machine Learning engineer"
   ]
  },
  {
   "cell_type": "markdown",
   "id": "3a81c8a8",
   "metadata": {},
   "source": [
    "## BUSINESS PROBLEM UNDERSTANDING"
   ]
  },
  {
   "cell_type": "markdown",
   "id": "ec544634",
   "metadata": {},
   "source": [
    "### 1. CONTEXT\n",
    "OCBC adalah sebuah bank singapore yang sudah berdiri lama sejak 4 April 1941 dengan nama NISP (Nederlandsch Indische Spaar En Deposito Bank). Pada tahun 2008 NISP resmi melakukan merger dengan OCBC singapore dengan berganti nama menjadi OCBC NISP Berbagai benefit dari program yang ditawarkan nasabah cukup variatif. Salah satunya adalah deposito, nasabah yang melakukan deposito melalui booth OCBC yang tersebar di berbagai mall akan mendapatkan benefit yang tidak didapatkan di cabang, yaitu gimmick koper, gopay, ransel dan berbagai gimmmick menarik lainnya.\n",
    "#### Target :\n",
    "- 0 : Mencari nasabah tidak churn (aktif)\n",
    "- 1 : Mengidentifikasi nasabah churn (tidak aktif)\n",
    "\n",
    "\n",
    "#### 2. PROBLEM STATEMENTS\n",
    "Pada tahun 2023-2025 terindikasi bahwa terjadi fraud besar-besaran yang dilakukan secara sistematis oleh sales untuk achieve target bulanan. Dampaknya, OCBC rugi secara capital dan mendapati nasabah yang churn dikarenakan gimmick sudah diberikan tapi nasabah tidak menggunakan OCBC mobile. Alhasil, OCBC keluar uang berlebih untuk sales yang achieved dengan cara fraud dan rugi secara gimmick yang sudah diberikan nasabah churn. Bahkan ada yang mengimingi-imingi auto approve kartu kredit 90 degree north dengan catatan nasabah harus deposito dengan nominal minimal Rp. 50.000.000 tenor 3 bulan.\n",
    "\n",
    "### 3. GOALS\n",
    "Goals utama adalah untuk memprediksi nasabah yang churn dan tidak, sehingga OCBC BANK dapat menyiapkan strategi marketing campaign yang lebih efektif dan efisien. Tentu, salah duanya juga untuk mengidentifikasi faktor atau penyebab nasabah menjadi churn dengan program deposito OCBC.\n",
    "\n",
    "### 4. ANALYTIC APPROACH\n",
    "Kami melakukan pendekatan analysis data untuk menemukan pola pada nasabah yang churn dan tidak. Dengan pendekatan Classification Supervised Learning (logistic Regression) dapat membantu OCBC dalam memprediksi peluang atau probabilitas nasabah churn atau tidak, sehingga OCBC dapat menganalisa lebih lanjut terkait teknis strategi marketing campaign mendatang.\n",
    "\n",
    "### 5. METRIC EVALUATION\n",
    "Type 1 error : False Positive  \n",
    "Konsekuensi: OCBC merugi secara capital untuk mengeluarkan insentif sales-sales yang achieved monthly dan reward trip beserta dana yang dikeluarkan untuk gimmick pada nasabah churn.\n",
    "\n",
    "Type 2 error : False Negative  \n",
    "Konsekuensi: Risiko kehilangan nasabah loyal meningkat."
   ]
  },
  {
   "cell_type": "markdown",
   "id": "fbe22bea",
   "metadata": {},
   "source": [
    "### source :\n",
    "#### - https://mediakonsumen.com/2025/02/21/surat-pembaca/janji-palsu-bonus-aktivasi-kartu-kredit-ocbc-90n\n",
    "#### - https://mediakonsumen.com/2025/02/28/tanggapan/tanggapan-perihal-janji-palsu-bonus-aktivasi-kartu-kredit-ocbc-90n"
   ]
  },
  {
   "cell_type": "markdown",
   "id": "4c0e5ef1",
   "metadata": {},
   "source": [
    "### Attribute Information\n",
    "\n",
    "| Attribute | Data Type, Length | Description |\n",
    "| --- | --- | --- |\n",
    "| age | Long (64-bit) | Umur nasabah (tahun). |\n",
    "| job | Text | Jenis pekerjaan nasabah. |\n",
    "| balance | Long (64-bit) | Saldo rata-rata tahunan pada rekening (mata uang lokal). |\n",
    "| housing | Text | Kepemilikan kredit rumah (housing loan) (yes/no). |\n",
    "| loan | Text | Kepemilikan kredit pribadi (personal loan) (yes/no). |\n",
    "| contact | Text | Media kontak yang digunakan (cellular, telephone). |\n",
    "| month | Text | Bulan kontak terakhir dalam kampanye (januari – december 2022)|\n",
    "| campaign | Long (64-bit) | Jumlah kontak yang dilakukan selama kampanye saat ini. |\n",
    "| pdays | Long (64-bit) | Jumlah hari sejak kontak terakhir pada kampanye sebelumnya (-1 = belum pernah dihubungi). |\n",
    "| poutcome | Text | Hasil kampanye pemasaran sebelumnya (uccess, failure, unknown). |\n",
    "| deposit | Text | Target: apakah nasabah berlangganan deposito berjangka (yes/no). |\n",
    "| Sales Fraud | text | Apakah sales yang melakukan fraud berpengaruh pada churn atau tidaknya seorang nasabah? |"
   ]
  },
  {
   "cell_type": "markdown",
   "id": "e87592ef",
   "metadata": {},
   "source": [
    "### 1. Import libraries"
   ]
  },
  {
   "cell_type": "code",
   "execution_count": null,
   "id": "5952b582",
   "metadata": {},
   "outputs": [],
   "source": [
    "import numpy as np\n",
    "import pandas as pd\n",
    "import seaborn as sns\n",
    "import matplotlib.pyplot as plt\n",
    "import warnings\n",
    "warnings.filterwarnings(\"ignore\")\n",
    "\n",
    "# Sistem & utilitas\n",
    "import os\n",
    "import json\n",
    "import joblib\n",
    "from typing import Tuple, Dict\n",
    "import gradio as gr\n",
    "\n",
    "# Scikit-learn\n",
    "from sklearn.model_selection import train_test_split, StratifiedKFold, cross_val_score, RandomizedSearchCV\n",
    "from sklearn.preprocessing import OneHotEncoder, OrdinalEncoder, StandardScaler\n",
    "from sklearn.compose import ColumnTransformer\n",
    "from sklearn.pipeline import Pipeline\n",
    "from sklearn.metrics import (\n",
    "    accuracy_score, precision_score, recall_score, f1_score,\n",
    "    roc_auc_score, roc_curve, confusion_matrix, classification_report\n",
    ")\n",
    "from sklearn.linear_model import LogisticRegression\n",
    "from sklearn.ensemble import RandomForestClassifier, HistGradientBoostingClassifier\n",
    "from sklearn.inspection import permutation_importance\n",
    "\n",
    "# Future annotations & Pathlib\n",
    "from __future__ import annotations\n",
    "from pathlib import Path\n",
    "\n",
    "# Imbalanced-learn\n",
    "from imblearn.over_sampling import SMOTE\n",
    "from imblearn.pipeline import Pipeline as ImbPipeline\n",
    "\n",
    "# Seed untuk reproducibility\n",
    "np.random.seed(42)\n",
    "\n",
    "# Setting visual\n",
    "sns.set(style=\"whitegrid\", context=\"notebook\")\n",
    "plt.rcParams[\"figure.figsize\"] = (10, 6)"
   ]
  },
  {
   "cell_type": "markdown",
   "id": "a028b984",
   "metadata": {},
   "source": [
    "\n",
    "### LOAD DATA\n"
   ]
  },
  {
   "cell_type": "code",
   "execution_count": null,
   "id": "9c91c964",
   "metadata": {},
   "outputs": [
    {
     "name": "stdout",
     "output_type": "stream",
     "text": [
      "Shape: (7813, 11)\n"
     ]
    },
    {
     "data": {
      "text/html": [
       "<div>\n",
       "<style scoped>\n",
       "    .dataframe tbody tr th:only-of-type {\n",
       "        vertical-align: middle;\n",
       "    }\n",
       "\n",
       "    .dataframe tbody tr th {\n",
       "        vertical-align: top;\n",
       "    }\n",
       "\n",
       "    .dataframe thead th {\n",
       "        text-align: right;\n",
       "    }\n",
       "</style>\n",
       "<table border=\"1\" class=\"dataframe\">\n",
       "  <thead>\n",
       "    <tr style=\"text-align: right;\">\n",
       "      <th></th>\n",
       "      <th>age</th>\n",
       "      <th>job</th>\n",
       "      <th>balance</th>\n",
       "      <th>housing</th>\n",
       "      <th>loan</th>\n",
       "      <th>contact</th>\n",
       "      <th>month</th>\n",
       "      <th>campaign</th>\n",
       "      <th>pdays</th>\n",
       "      <th>poutcome</th>\n",
       "      <th>deposit</th>\n",
       "    </tr>\n",
       "  </thead>\n",
       "  <tbody>\n",
       "    <tr>\n",
       "      <th>0</th>\n",
       "      <td>55</td>\n",
       "      <td>admin.</td>\n",
       "      <td>1662</td>\n",
       "      <td>no</td>\n",
       "      <td>no</td>\n",
       "      <td>cellular</td>\n",
       "      <td>jun</td>\n",
       "      <td>2</td>\n",
       "      <td>-1</td>\n",
       "      <td>unknown</td>\n",
       "      <td>yes</td>\n",
       "    </tr>\n",
       "    <tr>\n",
       "      <th>1</th>\n",
       "      <td>39</td>\n",
       "      <td>self-employed</td>\n",
       "      <td>-3058</td>\n",
       "      <td>yes</td>\n",
       "      <td>yes</td>\n",
       "      <td>cellular</td>\n",
       "      <td>apr</td>\n",
       "      <td>3</td>\n",
       "      <td>-1</td>\n",
       "      <td>unknown</td>\n",
       "      <td>yes</td>\n",
       "    </tr>\n",
       "    <tr>\n",
       "      <th>2</th>\n",
       "      <td>51</td>\n",
       "      <td>admin.</td>\n",
       "      <td>3025</td>\n",
       "      <td>no</td>\n",
       "      <td>no</td>\n",
       "      <td>cellular</td>\n",
       "      <td>may</td>\n",
       "      <td>1</td>\n",
       "      <td>352</td>\n",
       "      <td>other</td>\n",
       "      <td>yes</td>\n",
       "    </tr>\n",
       "    <tr>\n",
       "      <th>3</th>\n",
       "      <td>38</td>\n",
       "      <td>services</td>\n",
       "      <td>-87</td>\n",
       "      <td>yes</td>\n",
       "      <td>no</td>\n",
       "      <td>cellular</td>\n",
       "      <td>may</td>\n",
       "      <td>1</td>\n",
       "      <td>-1</td>\n",
       "      <td>unknown</td>\n",
       "      <td>no</td>\n",
       "    </tr>\n",
       "    <tr>\n",
       "      <th>4</th>\n",
       "      <td>36</td>\n",
       "      <td>housemaid</td>\n",
       "      <td>205</td>\n",
       "      <td>yes</td>\n",
       "      <td>no</td>\n",
       "      <td>telephone</td>\n",
       "      <td>nov</td>\n",
       "      <td>4</td>\n",
       "      <td>-1</td>\n",
       "      <td>unknown</td>\n",
       "      <td>no</td>\n",
       "    </tr>\n",
       "  </tbody>\n",
       "</table>\n",
       "</div>"
      ],
      "text/plain": [
       "   age            job  balance housing loan    contact month  campaign  pdays  \\\n",
       "0   55         admin.     1662      no   no   cellular   jun         2     -1   \n",
       "1   39  self-employed    -3058     yes  yes   cellular   apr         3     -1   \n",
       "2   51         admin.     3025      no   no   cellular   may         1    352   \n",
       "3   38       services      -87     yes   no   cellular   may         1     -1   \n",
       "4   36      housemaid      205     yes   no  telephone   nov         4     -1   \n",
       "\n",
       "  poutcome deposit  \n",
       "0  unknown     yes  \n",
       "1  unknown     yes  \n",
       "2    other     yes  \n",
       "3  unknown      no  \n",
       "4  unknown      no  "
      ]
     },
     "metadata": {},
     "output_type": "display_data"
    }
   ],
   "source": [
    "DATA_PATH = \"data_bank_marketing_campaign.csv\"\n",
    "\n",
    "df = pd.read_csv(DATA_PATH)\n",
    "print(f\"Shape: {df.shape}\")\n",
    "display(df.head())\n"
   ]
  },
  {
   "cell_type": "markdown",
   "id": "30c6fcf4",
   "metadata": {},
   "source": [
    "\n",
    "###  2. Data Understanding"
   ]
  },
  {
   "cell_type": "markdown",
   "id": "ad4b194b",
   "metadata": {},
   "source": [
    "#### Info tipe data"
   ]
  },
  {
   "cell_type": "code",
   "execution_count": null,
   "id": "915e36fa",
   "metadata": {},
   "outputs": [
    {
     "name": "stdout",
     "output_type": "stream",
     "text": [
      "INFO DATA:\n",
      "<class 'pandas.core.frame.DataFrame'>\n",
      "RangeIndex: 7813 entries, 0 to 7812\n",
      "Data columns (total 11 columns):\n",
      " #   Column    Non-Null Count  Dtype \n",
      "---  ------    --------------  ----- \n",
      " 0   age       7813 non-null   int64 \n",
      " 1   job       7813 non-null   object\n",
      " 2   balance   7813 non-null   int64 \n",
      " 3   housing   7813 non-null   object\n",
      " 4   loan      7813 non-null   object\n",
      " 5   contact   7813 non-null   object\n",
      " 6   month     7813 non-null   object\n",
      " 7   campaign  7813 non-null   int64 \n",
      " 8   pdays     7813 non-null   int64 \n",
      " 9   poutcome  7813 non-null   object\n",
      " 10  deposit   7813 non-null   object\n",
      "dtypes: int64(4), object(7)\n",
      "memory usage: 671.6+ KB\n",
      "None\n"
     ]
    }
   ],
   "source": [
    "print(\"INFO DATA:\")\n",
    "print(df.info())\n"
   ]
  },
  {
   "cell_type": "code",
   "execution_count": null,
   "id": "6c7c54a3",
   "metadata": {},
   "outputs": [
    {
     "name": "stdout",
     "output_type": "stream",
     "text": [
      "Shape: (7813, 11)\n"
     ]
    },
    {
     "data": {
      "text/html": [
       "<div>\n",
       "<style scoped>\n",
       "    .dataframe tbody tr th:only-of-type {\n",
       "        vertical-align: middle;\n",
       "    }\n",
       "\n",
       "    .dataframe tbody tr th {\n",
       "        vertical-align: top;\n",
       "    }\n",
       "\n",
       "    .dataframe thead th {\n",
       "        text-align: right;\n",
       "    }\n",
       "</style>\n",
       "<table border=\"1\" class=\"dataframe\">\n",
       "  <thead>\n",
       "    <tr style=\"text-align: right;\">\n",
       "      <th></th>\n",
       "      <th>age</th>\n",
       "      <th>job</th>\n",
       "      <th>balance</th>\n",
       "      <th>housing</th>\n",
       "      <th>loan</th>\n",
       "      <th>contact</th>\n",
       "      <th>month</th>\n",
       "      <th>campaign</th>\n",
       "      <th>pdays</th>\n",
       "      <th>poutcome</th>\n",
       "      <th>deposit</th>\n",
       "    </tr>\n",
       "  </thead>\n",
       "  <tbody>\n",
       "    <tr>\n",
       "      <th>0</th>\n",
       "      <td>55</td>\n",
       "      <td>admin.</td>\n",
       "      <td>1662</td>\n",
       "      <td>no</td>\n",
       "      <td>no</td>\n",
       "      <td>cellular</td>\n",
       "      <td>jun</td>\n",
       "      <td>2</td>\n",
       "      <td>-1</td>\n",
       "      <td>unknown</td>\n",
       "      <td>yes</td>\n",
       "    </tr>\n",
       "    <tr>\n",
       "      <th>1</th>\n",
       "      <td>39</td>\n",
       "      <td>self-employed</td>\n",
       "      <td>-3058</td>\n",
       "      <td>yes</td>\n",
       "      <td>yes</td>\n",
       "      <td>cellular</td>\n",
       "      <td>apr</td>\n",
       "      <td>3</td>\n",
       "      <td>-1</td>\n",
       "      <td>unknown</td>\n",
       "      <td>yes</td>\n",
       "    </tr>\n",
       "    <tr>\n",
       "      <th>2</th>\n",
       "      <td>51</td>\n",
       "      <td>admin.</td>\n",
       "      <td>3025</td>\n",
       "      <td>no</td>\n",
       "      <td>no</td>\n",
       "      <td>cellular</td>\n",
       "      <td>may</td>\n",
       "      <td>1</td>\n",
       "      <td>352</td>\n",
       "      <td>other</td>\n",
       "      <td>yes</td>\n",
       "    </tr>\n",
       "    <tr>\n",
       "      <th>3</th>\n",
       "      <td>38</td>\n",
       "      <td>services</td>\n",
       "      <td>-87</td>\n",
       "      <td>yes</td>\n",
       "      <td>no</td>\n",
       "      <td>cellular</td>\n",
       "      <td>may</td>\n",
       "      <td>1</td>\n",
       "      <td>-1</td>\n",
       "      <td>unknown</td>\n",
       "      <td>no</td>\n",
       "    </tr>\n",
       "    <tr>\n",
       "      <th>4</th>\n",
       "      <td>36</td>\n",
       "      <td>housemaid</td>\n",
       "      <td>205</td>\n",
       "      <td>yes</td>\n",
       "      <td>no</td>\n",
       "      <td>telephone</td>\n",
       "      <td>nov</td>\n",
       "      <td>4</td>\n",
       "      <td>-1</td>\n",
       "      <td>unknown</td>\n",
       "      <td>no</td>\n",
       "    </tr>\n",
       "  </tbody>\n",
       "</table>\n",
       "</div>"
      ],
      "text/plain": [
       "   age            job  balance housing loan    contact month  campaign  pdays  \\\n",
       "0   55         admin.     1662      no   no   cellular   jun         2     -1   \n",
       "1   39  self-employed    -3058     yes  yes   cellular   apr         3     -1   \n",
       "2   51         admin.     3025      no   no   cellular   may         1    352   \n",
       "3   38       services      -87     yes   no   cellular   may         1     -1   \n",
       "4   36      housemaid      205     yes   no  telephone   nov         4     -1   \n",
       "\n",
       "  poutcome deposit  \n",
       "0  unknown     yes  \n",
       "1  unknown     yes  \n",
       "2    other     yes  \n",
       "3  unknown      no  \n",
       "4  unknown      no  "
      ]
     },
     "metadata": {},
     "output_type": "display_data"
    }
   ],
   "source": [
    "print(\"Shape:\", df.shape)\n",
    "display(df.head())"
   ]
  },
  {
   "cell_type": "code",
   "execution_count": null,
   "id": "3ad3738c",
   "metadata": {},
   "outputs": [
    {
     "name": "stdout",
     "output_type": "stream",
     "text": [
      "\n",
      "Unique counts per column:\n"
     ]
    },
    {
     "data": {
      "text/plain": [
       "age           75\n",
       "job           12\n",
       "balance     3153\n",
       "housing        2\n",
       "loan           2\n",
       "contact        3\n",
       "month         12\n",
       "campaign      32\n",
       "pdays        422\n",
       "poutcome       4\n",
       "deposit        2\n",
       "dtype: int64"
      ]
     },
     "metadata": {},
     "output_type": "display_data"
    }
   ],
   "source": [
    "print(\"\\nUnique counts per column:\")\n",
    "display(df.nunique())"
   ]
  },
  {
   "cell_type": "markdown",
   "id": "16a54676",
   "metadata": {},
   "source": [
    "#### Jumlah missing"
   ]
  },
  {
   "cell_type": "code",
   "execution_count": null,
   "id": "acc228e5",
   "metadata": {},
   "outputs": [
    {
     "name": "stdout",
     "output_type": "stream",
     "text": [
      "\n",
      "JUMLAH MISSING PER KOLOM:\n"
     ]
    },
    {
     "data": {
      "text/plain": [
       "age         0\n",
       "job         0\n",
       "balance     0\n",
       "housing     0\n",
       "loan        0\n",
       "contact     0\n",
       "month       0\n",
       "campaign    0\n",
       "pdays       0\n",
       "poutcome    0\n",
       "deposit     0\n",
       "dtype: int64"
      ]
     },
     "metadata": {},
     "output_type": "display_data"
    }
   ],
   "source": [
    "print(\"\\nJUMLAH MISSING PER KOLOM:\")\n",
    "display(df.isna().sum())"
   ]
  },
  {
   "cell_type": "markdown",
   "id": "ac56013c",
   "metadata": {},
   "source": [
    "#### Statistik dasar"
   ]
  },
  {
   "cell_type": "code",
   "execution_count": null,
   "id": "4b26fda9",
   "metadata": {},
   "outputs": [
    {
     "name": "stdout",
     "output_type": "stream",
     "text": [
      "\n",
      "STATISTIK NUMERIK:\n"
     ]
    },
    {
     "data": {
      "text/html": [
       "<div>\n",
       "<style scoped>\n",
       "    .dataframe tbody tr th:only-of-type {\n",
       "        vertical-align: middle;\n",
       "    }\n",
       "\n",
       "    .dataframe tbody tr th {\n",
       "        vertical-align: top;\n",
       "    }\n",
       "\n",
       "    .dataframe thead th {\n",
       "        text-align: right;\n",
       "    }\n",
       "</style>\n",
       "<table border=\"1\" class=\"dataframe\">\n",
       "  <thead>\n",
       "    <tr style=\"text-align: right;\">\n",
       "      <th></th>\n",
       "      <th>count</th>\n",
       "      <th>mean</th>\n",
       "      <th>std</th>\n",
       "      <th>min</th>\n",
       "      <th>25%</th>\n",
       "      <th>50%</th>\n",
       "      <th>75%</th>\n",
       "      <th>max</th>\n",
       "    </tr>\n",
       "  </thead>\n",
       "  <tbody>\n",
       "    <tr>\n",
       "      <th>age</th>\n",
       "      <td>7813.0</td>\n",
       "      <td>41.257264</td>\n",
       "      <td>11.919710</td>\n",
       "      <td>18.0</td>\n",
       "      <td>32.0</td>\n",
       "      <td>39.0</td>\n",
       "      <td>49.0</td>\n",
       "      <td>95.0</td>\n",
       "    </tr>\n",
       "    <tr>\n",
       "      <th>balance</th>\n",
       "      <td>7813.0</td>\n",
       "      <td>1512.448611</td>\n",
       "      <td>3089.291831</td>\n",
       "      <td>-6847.0</td>\n",
       "      <td>127.0</td>\n",
       "      <td>549.0</td>\n",
       "      <td>1684.0</td>\n",
       "      <td>66653.0</td>\n",
       "    </tr>\n",
       "    <tr>\n",
       "      <th>campaign</th>\n",
       "      <td>7813.0</td>\n",
       "      <td>2.519775</td>\n",
       "      <td>2.727001</td>\n",
       "      <td>1.0</td>\n",
       "      <td>1.0</td>\n",
       "      <td>2.0</td>\n",
       "      <td>3.0</td>\n",
       "      <td>63.0</td>\n",
       "    </tr>\n",
       "    <tr>\n",
       "      <th>pdays</th>\n",
       "      <td>7813.0</td>\n",
       "      <td>51.408550</td>\n",
       "      <td>108.072739</td>\n",
       "      <td>-1.0</td>\n",
       "      <td>-1.0</td>\n",
       "      <td>-1.0</td>\n",
       "      <td>40.0</td>\n",
       "      <td>854.0</td>\n",
       "    </tr>\n",
       "  </tbody>\n",
       "</table>\n",
       "</div>"
      ],
      "text/plain": [
       "           count         mean          std     min    25%    50%     75%  \\\n",
       "age       7813.0    41.257264    11.919710    18.0   32.0   39.0    49.0   \n",
       "balance   7813.0  1512.448611  3089.291831 -6847.0  127.0  549.0  1684.0   \n",
       "campaign  7813.0     2.519775     2.727001     1.0    1.0    2.0     3.0   \n",
       "pdays     7813.0    51.408550   108.072739    -1.0   -1.0   -1.0    40.0   \n",
       "\n",
       "              max  \n",
       "age          95.0  \n",
       "balance   66653.0  \n",
       "campaign     63.0  \n",
       "pdays       854.0  "
      ]
     },
     "metadata": {},
     "output_type": "display_data"
    }
   ],
   "source": [
    "print(\"\\nSTATISTIK NUMERIK:\")\n",
    "display(df.describe(include=[np.number]).T)"
   ]
  },
  {
   "cell_type": "code",
   "execution_count": null,
   "id": "cfbefd31",
   "metadata": {},
   "outputs": [
    {
     "name": "stdout",
     "output_type": "stream",
     "text": [
      "\n",
      "STATISTIK KATEGORIKAL:\n"
     ]
    },
    {
     "data": {
      "text/html": [
       "<div>\n",
       "<style scoped>\n",
       "    .dataframe tbody tr th:only-of-type {\n",
       "        vertical-align: middle;\n",
       "    }\n",
       "\n",
       "    .dataframe tbody tr th {\n",
       "        vertical-align: top;\n",
       "    }\n",
       "\n",
       "    .dataframe thead th {\n",
       "        text-align: right;\n",
       "    }\n",
       "</style>\n",
       "<table border=\"1\" class=\"dataframe\">\n",
       "  <thead>\n",
       "    <tr style=\"text-align: right;\">\n",
       "      <th></th>\n",
       "      <th>count</th>\n",
       "      <th>unique</th>\n",
       "      <th>top</th>\n",
       "      <th>freq</th>\n",
       "    </tr>\n",
       "  </thead>\n",
       "  <tbody>\n",
       "    <tr>\n",
       "      <th>job</th>\n",
       "      <td>7813</td>\n",
       "      <td>12</td>\n",
       "      <td>management</td>\n",
       "      <td>1792</td>\n",
       "    </tr>\n",
       "    <tr>\n",
       "      <th>housing</th>\n",
       "      <td>7813</td>\n",
       "      <td>2</td>\n",
       "      <td>no</td>\n",
       "      <td>4140</td>\n",
       "    </tr>\n",
       "    <tr>\n",
       "      <th>loan</th>\n",
       "      <td>7813</td>\n",
       "      <td>2</td>\n",
       "      <td>no</td>\n",
       "      <td>6789</td>\n",
       "    </tr>\n",
       "    <tr>\n",
       "      <th>contact</th>\n",
       "      <td>7813</td>\n",
       "      <td>3</td>\n",
       "      <td>cellular</td>\n",
       "      <td>5628</td>\n",
       "    </tr>\n",
       "    <tr>\n",
       "      <th>month</th>\n",
       "      <td>7813</td>\n",
       "      <td>12</td>\n",
       "      <td>may</td>\n",
       "      <td>1976</td>\n",
       "    </tr>\n",
       "    <tr>\n",
       "      <th>poutcome</th>\n",
       "      <td>7813</td>\n",
       "      <td>4</td>\n",
       "      <td>unknown</td>\n",
       "      <td>5819</td>\n",
       "    </tr>\n",
       "    <tr>\n",
       "      <th>deposit</th>\n",
       "      <td>7813</td>\n",
       "      <td>2</td>\n",
       "      <td>no</td>\n",
       "      <td>4081</td>\n",
       "    </tr>\n",
       "  </tbody>\n",
       "</table>\n",
       "</div>"
      ],
      "text/plain": [
       "         count unique         top  freq\n",
       "job       7813     12  management  1792\n",
       "housing   7813      2          no  4140\n",
       "loan      7813      2          no  6789\n",
       "contact   7813      3    cellular  5628\n",
       "month     7813     12         may  1976\n",
       "poutcome  7813      4     unknown  5819\n",
       "deposit   7813      2          no  4081"
      ]
     },
     "metadata": {},
     "output_type": "display_data"
    }
   ],
   "source": [
    "print(\"\\nSTATISTIK KATEGORIKAL:\")\n",
    "display(df.describe(include=[\"object\"]).T)"
   ]
  },
  {
   "cell_type": "markdown",
   "id": "0c484833",
   "metadata": {},
   "source": [
    "#### Nilai unik pada kolom kategorikal"
   ]
  },
  {
   "cell_type": "code",
   "execution_count": null,
   "id": "e8b35d7e",
   "metadata": {},
   "outputs": [
    {
     "name": "stdout",
     "output_type": "stream",
     "text": [
      "job: 12 unik -> ['admin.', 'blue-collar', 'entrepreneur', 'housemaid', 'management', 'retired', 'self-employed', 'services', 'student', 'technician', 'unemployed', 'unknown']\n",
      "housing: 2 unik -> ['no', 'yes']\n",
      "loan: 2 unik -> ['no', 'yes']\n"
     ]
    },
    {
     "name": "stdout",
     "output_type": "stream",
     "text": [
      "contact: 3 unik -> ['cellular', 'telephone', 'unknown']\n",
      "month: 12 unik -> ['apr', 'aug', 'dec', 'feb', 'jan', 'jul', 'jun', 'mar', 'may', 'nov', 'oct', 'sep']\n",
      "poutcome: 4 unik -> ['failure', 'other', 'success', 'unknown']\n",
      "deposit: 2 unik -> ['no', 'yes']\n"
     ]
    }
   ],
   "source": [
    "# nilai unik untuk kolom categorikal utama\n",
    "cats = [\"job\", \"housing\", \"loan\", \"contact\", \"month\", \"poutcome\", \"deposit\"]\n",
    "for c in cats:\n",
    "    uniq = df[c].astype(str).str.strip().str.lower().unique()\n",
    "    print(f\"{c}: {len(uniq)} unik -> {sorted(uniq)[:20]}\")"
   ]
  },
  {
   "cell_type": "markdown",
   "id": "c3471c4f",
   "metadata": {},
   "source": [
    "#### - Distribusi target (deposit) yang akan digunakan sebagai \"churn\""
   ]
  },
  {
   "cell_type": "code",
   "execution_count": null,
   "id": "8e7053ae",
   "metadata": {},
   "outputs": [
    {
     "name": "stdout",
     "output_type": "stream",
     "text": [
      "\n",
      "Distribusi deposit:\n"
     ]
    },
    {
     "data": {
      "text/html": [
       "<div>\n",
       "<style scoped>\n",
       "    .dataframe tbody tr th:only-of-type {\n",
       "        vertical-align: middle;\n",
       "    }\n",
       "\n",
       "    .dataframe tbody tr th {\n",
       "        vertical-align: top;\n",
       "    }\n",
       "\n",
       "    .dataframe thead th {\n",
       "        text-align: right;\n",
       "    }\n",
       "</style>\n",
       "<table border=\"1\" class=\"dataframe\">\n",
       "  <thead>\n",
       "    <tr style=\"text-align: right;\">\n",
       "      <th></th>\n",
       "      <th>proporsi</th>\n",
       "    </tr>\n",
       "    <tr>\n",
       "      <th>deposit</th>\n",
       "      <th></th>\n",
       "    </tr>\n",
       "  </thead>\n",
       "  <tbody>\n",
       "    <tr>\n",
       "      <th>no</th>\n",
       "      <td>0.522335</td>\n",
       "    </tr>\n",
       "    <tr>\n",
       "      <th>yes</th>\n",
       "      <td>0.477665</td>\n",
       "    </tr>\n",
       "  </tbody>\n",
       "</table>\n",
       "</div>"
      ],
      "text/plain": [
       "         proporsi\n",
       "deposit          \n",
       "no       0.522335\n",
       "yes      0.477665"
      ]
     },
     "metadata": {},
     "output_type": "display_data"
    }
   ],
   "source": [
    "# Distribusi target deposit (ya/tidak)\n",
    "print(\"\\nDistribusi deposit:\")\n",
    "display(df[\"deposit\"].value_counts(normalize=True).rename(\"proporsi\").to_frame())"
   ]
  },
  {
   "cell_type": "markdown",
   "id": "8b6c5f37",
   "metadata": {},
   "source": [
    "### 3.Data Cleaning"
   ]
  },
  {
   "cell_type": "code",
   "execution_count": null,
   "id": "a0d24704",
   "metadata": {},
   "outputs": [],
   "source": [
    "df_clean = df.copy()"
   ]
  },
  {
   "cell_type": "markdown",
   "id": "f73ebce3",
   "metadata": {},
   "source": [
    "#### Normalize string columns"
   ]
  },
  {
   "cell_type": "code",
   "execution_count": null,
   "id": "7b7b0681",
   "metadata": {},
   "outputs": [],
   "source": [
    "# Normalize string columns\n",
    "obj_cols = df_clean.select_dtypes(include=[\"object\"]).columns.tolist()\n",
    "for c in obj_cols:\n",
    "    df_clean[c] = df_clean[c].astype(str).str.strip().str.lower()\n"
   ]
  },
  {
   "cell_type": "code",
   "execution_count": null,
   "id": "05c30842",
   "metadata": {},
   "outputs": [],
   "source": [
    "# Replace exact 'unknown' to NaN (kita juga simpan as is via encoding supaya tidak hilang informasi)\n",
    "data_cols = [\"job\", \"housing\", \"loan\", \"contact\", \"month\", \"poutcome\", \"deposit\"]\n",
    "for c in data_cols:\n",
    "    if c in df_clean.columns:\n",
    "        df_clean[c] = df_clean[c].replace(\"unknown\", np.nan)"
   ]
  },
  {
   "cell_type": "code",
   "execution_count": null,
   "id": "28e3c42c",
   "metadata": {},
   "outputs": [],
   "source": [
    "# Handle pdays = -1\n",
    "df_clean[\"never_contacted_before\"] = (df_clean[\"pdays\"] == -1).astype(int)\n",
    "\n",
    "# set -1 to NaN to avoid linear artifacts\n",
    "df_clean[\"pdays_processed\"] = df_clean[\"pdays\"].replace(-1, np.nan)"
   ]
  },
  {
   "cell_type": "code",
   "execution_count": null,
   "id": "5d00a77a",
   "metadata": {},
   "outputs": [
    {
     "name": "stdout",
     "output_type": "stream",
     "text": [
      "Missing values:\n"
     ]
    },
    {
     "data": {
      "text/html": [
       "<div>\n",
       "<style scoped>\n",
       "    .dataframe tbody tr th:only-of-type {\n",
       "        vertical-align: middle;\n",
       "    }\n",
       "\n",
       "    .dataframe tbody tr th {\n",
       "        vertical-align: top;\n",
       "    }\n",
       "\n",
       "    .dataframe thead th {\n",
       "        text-align: right;\n",
       "    }\n",
       "</style>\n",
       "<table border=\"1\" class=\"dataframe\">\n",
       "  <thead>\n",
       "    <tr style=\"text-align: right;\">\n",
       "      <th></th>\n",
       "      <th>missing</th>\n",
       "    </tr>\n",
       "  </thead>\n",
       "  <tbody>\n",
       "    <tr>\n",
       "      <th>age</th>\n",
       "      <td>0</td>\n",
       "    </tr>\n",
       "    <tr>\n",
       "      <th>job</th>\n",
       "      <td>54</td>\n",
       "    </tr>\n",
       "    <tr>\n",
       "      <th>balance</th>\n",
       "      <td>0</td>\n",
       "    </tr>\n",
       "    <tr>\n",
       "      <th>housing</th>\n",
       "      <td>0</td>\n",
       "    </tr>\n",
       "    <tr>\n",
       "      <th>loan</th>\n",
       "      <td>0</td>\n",
       "    </tr>\n",
       "    <tr>\n",
       "      <th>contact</th>\n",
       "      <td>1639</td>\n",
       "    </tr>\n",
       "    <tr>\n",
       "      <th>month</th>\n",
       "      <td>0</td>\n",
       "    </tr>\n",
       "    <tr>\n",
       "      <th>campaign</th>\n",
       "      <td>0</td>\n",
       "    </tr>\n",
       "    <tr>\n",
       "      <th>pdays</th>\n",
       "      <td>0</td>\n",
       "    </tr>\n",
       "    <tr>\n",
       "      <th>poutcome</th>\n",
       "      <td>5819</td>\n",
       "    </tr>\n",
       "    <tr>\n",
       "      <th>deposit</th>\n",
       "      <td>0</td>\n",
       "    </tr>\n",
       "    <tr>\n",
       "      <th>never_contacted_before</th>\n",
       "      <td>0</td>\n",
       "    </tr>\n",
       "    <tr>\n",
       "      <th>pdays_processed</th>\n",
       "      <td>5817</td>\n",
       "    </tr>\n",
       "    <tr>\n",
       "      <th>churn</th>\n",
       "      <td>0</td>\n",
       "    </tr>\n",
       "  </tbody>\n",
       "</table>\n",
       "</div>"
      ],
      "text/plain": [
       "                        missing\n",
       "age                           0\n",
       "job                          54\n",
       "balance                       0\n",
       "housing                       0\n",
       "loan                          0\n",
       "contact                    1639\n",
       "month                         0\n",
       "campaign                      0\n",
       "pdays                         0\n",
       "poutcome                   5819\n",
       "deposit                       0\n",
       "never_contacted_before        0\n",
       "pdays_processed            5817\n",
       "churn                         0"
      ]
     },
     "metadata": {},
     "output_type": "display_data"
    }
   ],
   "source": [
    "# Create churn label from deposit\n",
    "df_clean[\"churn\"] = np.where(df_clean[\"deposit\"] == \"no\", 1, 0)  \n",
    "\n",
    "print(\"Missing values:\")\n",
    "display(df_clean.isna().sum().to_frame(\"missing\"))\n"
   ]
  },
  {
   "cell_type": "code",
   "execution_count": null,
   "id": "173b95db",
   "metadata": {},
   "outputs": [
    {
     "data": {
      "text/html": [
       "<div>\n",
       "<style scoped>\n",
       "    .dataframe tbody tr th:only-of-type {\n",
       "        vertical-align: middle;\n",
       "    }\n",
       "\n",
       "    .dataframe tbody tr th {\n",
       "        vertical-align: top;\n",
       "    }\n",
       "\n",
       "    .dataframe thead th {\n",
       "        text-align: right;\n",
       "    }\n",
       "</style>\n",
       "<table border=\"1\" class=\"dataframe\">\n",
       "  <thead>\n",
       "    <tr style=\"text-align: right;\">\n",
       "      <th></th>\n",
       "      <th>age</th>\n",
       "      <th>job</th>\n",
       "      <th>balance</th>\n",
       "      <th>housing</th>\n",
       "      <th>loan</th>\n",
       "      <th>contact</th>\n",
       "      <th>month</th>\n",
       "      <th>campaign</th>\n",
       "      <th>pdays</th>\n",
       "      <th>poutcome</th>\n",
       "      <th>deposit</th>\n",
       "      <th>never_contacted_before</th>\n",
       "      <th>pdays_processed</th>\n",
       "      <th>churn</th>\n",
       "    </tr>\n",
       "  </thead>\n",
       "  <tbody>\n",
       "    <tr>\n",
       "      <th>0</th>\n",
       "      <td>55</td>\n",
       "      <td>admin.</td>\n",
       "      <td>1662</td>\n",
       "      <td>no</td>\n",
       "      <td>no</td>\n",
       "      <td>cellular</td>\n",
       "      <td>jun</td>\n",
       "      <td>2</td>\n",
       "      <td>-1</td>\n",
       "      <td>NaN</td>\n",
       "      <td>yes</td>\n",
       "      <td>1</td>\n",
       "      <td>NaN</td>\n",
       "      <td>0</td>\n",
       "    </tr>\n",
       "    <tr>\n",
       "      <th>1</th>\n",
       "      <td>39</td>\n",
       "      <td>self-employed</td>\n",
       "      <td>-3058</td>\n",
       "      <td>yes</td>\n",
       "      <td>yes</td>\n",
       "      <td>cellular</td>\n",
       "      <td>apr</td>\n",
       "      <td>3</td>\n",
       "      <td>-1</td>\n",
       "      <td>NaN</td>\n",
       "      <td>yes</td>\n",
       "      <td>1</td>\n",
       "      <td>NaN</td>\n",
       "      <td>0</td>\n",
       "    </tr>\n",
       "    <tr>\n",
       "      <th>2</th>\n",
       "      <td>51</td>\n",
       "      <td>admin.</td>\n",
       "      <td>3025</td>\n",
       "      <td>no</td>\n",
       "      <td>no</td>\n",
       "      <td>cellular</td>\n",
       "      <td>may</td>\n",
       "      <td>1</td>\n",
       "      <td>352</td>\n",
       "      <td>other</td>\n",
       "      <td>yes</td>\n",
       "      <td>0</td>\n",
       "      <td>352.0</td>\n",
       "      <td>0</td>\n",
       "    </tr>\n",
       "    <tr>\n",
       "      <th>3</th>\n",
       "      <td>38</td>\n",
       "      <td>services</td>\n",
       "      <td>-87</td>\n",
       "      <td>yes</td>\n",
       "      <td>no</td>\n",
       "      <td>cellular</td>\n",
       "      <td>may</td>\n",
       "      <td>1</td>\n",
       "      <td>-1</td>\n",
       "      <td>NaN</td>\n",
       "      <td>no</td>\n",
       "      <td>1</td>\n",
       "      <td>NaN</td>\n",
       "      <td>1</td>\n",
       "    </tr>\n",
       "    <tr>\n",
       "      <th>4</th>\n",
       "      <td>36</td>\n",
       "      <td>housemaid</td>\n",
       "      <td>205</td>\n",
       "      <td>yes</td>\n",
       "      <td>no</td>\n",
       "      <td>telephone</td>\n",
       "      <td>nov</td>\n",
       "      <td>4</td>\n",
       "      <td>-1</td>\n",
       "      <td>NaN</td>\n",
       "      <td>no</td>\n",
       "      <td>1</td>\n",
       "      <td>NaN</td>\n",
       "      <td>1</td>\n",
       "    </tr>\n",
       "  </tbody>\n",
       "</table>\n",
       "</div>"
      ],
      "text/plain": [
       "   age            job  balance housing loan    contact month  campaign  pdays  \\\n",
       "0   55         admin.     1662      no   no   cellular   jun         2     -1   \n",
       "1   39  self-employed    -3058     yes  yes   cellular   apr         3     -1   \n",
       "2   51         admin.     3025      no   no   cellular   may         1    352   \n",
       "3   38       services      -87     yes   no   cellular   may         1     -1   \n",
       "4   36      housemaid      205     yes   no  telephone   nov         4     -1   \n",
       "\n",
       "  poutcome deposit  never_contacted_before  pdays_processed  churn  \n",
       "0      NaN     yes                       1              NaN      0  \n",
       "1      NaN     yes                       1              NaN      0  \n",
       "2    other     yes                       0            352.0      0  \n",
       "3      NaN      no                       1              NaN      1  \n",
       "4      NaN      no                       1              NaN      1  "
      ]
     },
     "metadata": {},
     "output_type": "display_data"
    }
   ],
   "source": [
    "display(df_clean.head())"
   ]
  },
  {
   "cell_type": "code",
   "execution_count": null,
   "id": "71aaaace",
   "metadata": {},
   "outputs": [
    {
     "name": "stdout",
     "output_type": "stream",
     "text": [
      "Dropped duplicates: 8\n"
     ]
    }
   ],
   "source": [
    "# Drop duplikat jika ada\n",
    "before = df.shape[0]\n",
    "df = df.drop_duplicates()\n",
    "after = df.shape[0]\n",
    "print(f\"Dropped duplicates: {before - after}\")"
   ]
  },
  {
   "cell_type": "code",
   "execution_count": null,
   "id": "0ca9fd2c",
   "metadata": {},
   "outputs": [
    {
     "data": {
      "text/html": [
       "<div>\n",
       "<style scoped>\n",
       "    .dataframe tbody tr th:only-of-type {\n",
       "        vertical-align: middle;\n",
       "    }\n",
       "\n",
       "    .dataframe tbody tr th {\n",
       "        vertical-align: top;\n",
       "    }\n",
       "\n",
       "    .dataframe thead th {\n",
       "        text-align: right;\n",
       "    }\n",
       "</style>\n",
       "<table border=\"1\" class=\"dataframe\">\n",
       "  <thead>\n",
       "    <tr style=\"text-align: right;\">\n",
       "      <th></th>\n",
       "      <th>age</th>\n",
       "      <th>job</th>\n",
       "      <th>balance</th>\n",
       "      <th>housing</th>\n",
       "      <th>loan</th>\n",
       "      <th>contact</th>\n",
       "      <th>month</th>\n",
       "      <th>campaign</th>\n",
       "      <th>pdays</th>\n",
       "      <th>poutcome</th>\n",
       "      <th>deposit</th>\n",
       "    </tr>\n",
       "  </thead>\n",
       "  <tbody>\n",
       "    <tr>\n",
       "      <th>0</th>\n",
       "      <td>55</td>\n",
       "      <td>admin.</td>\n",
       "      <td>1662</td>\n",
       "      <td>no</td>\n",
       "      <td>no</td>\n",
       "      <td>cellular</td>\n",
       "      <td>jun</td>\n",
       "      <td>2</td>\n",
       "      <td>-1</td>\n",
       "      <td>unknown</td>\n",
       "      <td>yes</td>\n",
       "    </tr>\n",
       "    <tr>\n",
       "      <th>1</th>\n",
       "      <td>39</td>\n",
       "      <td>self-employed</td>\n",
       "      <td>-3058</td>\n",
       "      <td>yes</td>\n",
       "      <td>yes</td>\n",
       "      <td>cellular</td>\n",
       "      <td>apr</td>\n",
       "      <td>3</td>\n",
       "      <td>-1</td>\n",
       "      <td>unknown</td>\n",
       "      <td>yes</td>\n",
       "    </tr>\n",
       "    <tr>\n",
       "      <th>2</th>\n",
       "      <td>51</td>\n",
       "      <td>admin.</td>\n",
       "      <td>3025</td>\n",
       "      <td>no</td>\n",
       "      <td>no</td>\n",
       "      <td>cellular</td>\n",
       "      <td>may</td>\n",
       "      <td>1</td>\n",
       "      <td>352</td>\n",
       "      <td>other</td>\n",
       "      <td>yes</td>\n",
       "    </tr>\n",
       "    <tr>\n",
       "      <th>3</th>\n",
       "      <td>38</td>\n",
       "      <td>services</td>\n",
       "      <td>-87</td>\n",
       "      <td>yes</td>\n",
       "      <td>no</td>\n",
       "      <td>cellular</td>\n",
       "      <td>may</td>\n",
       "      <td>1</td>\n",
       "      <td>-1</td>\n",
       "      <td>unknown</td>\n",
       "      <td>no</td>\n",
       "    </tr>\n",
       "    <tr>\n",
       "      <th>4</th>\n",
       "      <td>36</td>\n",
       "      <td>housemaid</td>\n",
       "      <td>205</td>\n",
       "      <td>yes</td>\n",
       "      <td>no</td>\n",
       "      <td>telephone</td>\n",
       "      <td>nov</td>\n",
       "      <td>4</td>\n",
       "      <td>-1</td>\n",
       "      <td>unknown</td>\n",
       "      <td>no</td>\n",
       "    </tr>\n",
       "  </tbody>\n",
       "</table>\n",
       "</div>"
      ],
      "text/plain": [
       "   age            job  balance housing loan    contact month  campaign  pdays  \\\n",
       "0   55         admin.     1662      no   no   cellular   jun         2     -1   \n",
       "1   39  self-employed    -3058     yes  yes   cellular   apr         3     -1   \n",
       "2   51         admin.     3025      no   no   cellular   may         1    352   \n",
       "3   38       services      -87     yes   no   cellular   may         1     -1   \n",
       "4   36      housemaid      205     yes   no  telephone   nov         4     -1   \n",
       "\n",
       "  poutcome deposit  \n",
       "0  unknown     yes  \n",
       "1  unknown     yes  \n",
       "2    other     yes  \n",
       "3  unknown      no  \n",
       "4  unknown      no  "
      ]
     },
     "metadata": {},
     "output_type": "display_data"
    }
   ],
   "source": [
    "# Validasi final\n",
    "display(df.head())"
   ]
  },
  {
   "cell_type": "markdown",
   "id": "6b5b8b9a",
   "metadata": {},
   "source": [
    "### 4. Feature Engineering"
   ]
  },
  {
   "cell_type": "markdown",
   "id": "aff01cf3",
   "metadata": {},
   "source": [
    "#### Month to ordinal"
   ]
  },
  {
   "cell_type": "code",
   "execution_count": null,
   "id": "f343ecf3",
   "metadata": {},
   "outputs": [],
   "source": [
    "# Month to ordinal\n",
    "month_order = [\"jan\",\"feb\",\"mar\",\"apr\",\"may\",\"jun\",\"jul\",\"aug\",\"sep\",\"oct\",\"nov\",\"dec\"]\n",
    "df_clean[\"month_ord\"] = (\n",
    "    df_clean[\"month\"]\n",
    "    .map({m:i+1 for i,m in enumerate(month_order)})\n",
    "    .fillna(0)  \n",
    "    .astype(int)\n",
    ")"
   ]
  },
  {
   "cell_type": "markdown",
   "id": "22286360",
   "metadata": {},
   "source": [
    "#### Flags for housing/loan"
   ]
  },
  {
   "cell_type": "code",
   "execution_count": null,
   "id": "84352831",
   "metadata": {},
   "outputs": [],
   "source": [
    "# Flags for housing/loan\n",
    "df_clean[\"has_housing\"] = (df_clean[\"housing\"] == \"yes\").astype(int)\n",
    "df_clean[\"has_loan\"] = (df_clean[\"loan\"] == \"yes\").astype(int)"
   ]
  },
  {
   "cell_type": "markdown",
   "id": "cb1b1019",
   "metadata": {},
   "source": [
    "#### Balance bins"
   ]
  },
  {
   "cell_type": "code",
   "execution_count": null,
   "id": "c35e7252",
   "metadata": {},
   "outputs": [],
   "source": [
    "# Balance bins \n",
    "df_clean[\"balance_bin\"] = pd.qcut(df_clean[\"balance\"], q=5, duplicates=\"drop\", labels=False)"
   ]
  },
  {
   "cell_type": "markdown",
   "id": "a0334e5a",
   "metadata": {},
   "source": [
    "#### Interaction Example"
   ]
  },
  {
   "cell_type": "code",
   "execution_count": null,
   "id": "d4c544a5",
   "metadata": {},
   "outputs": [],
   "source": [
    "# Interaction example\n",
    "df_clean[\"calls_x_contact_unknown\"] = df_clean[\"campaign\"] * df_clean[\"never_contacted_before\"]"
   ]
  },
  {
   "cell_type": "markdown",
   "id": "d02a7d92",
   "metadata": {},
   "source": [
    "#### Simulate sales_fraud"
   ]
  },
  {
   "cell_type": "code",
   "execution_count": null,
   "id": "d1d4a755",
   "metadata": {},
   "outputs": [
    {
     "data": {
      "text/html": [
       "<div>\n",
       "<style scoped>\n",
       "    .dataframe tbody tr th:only-of-type {\n",
       "        vertical-align: middle;\n",
       "    }\n",
       "\n",
       "    .dataframe tbody tr th {\n",
       "        vertical-align: top;\n",
       "    }\n",
       "\n",
       "    .dataframe thead th {\n",
       "        text-align: right;\n",
       "    }\n",
       "</style>\n",
       "<table border=\"1\" class=\"dataframe\">\n",
       "  <thead>\n",
       "    <tr style=\"text-align: right;\">\n",
       "      <th></th>\n",
       "      <th>deposit</th>\n",
       "      <th>churn</th>\n",
       "      <th>campaign</th>\n",
       "      <th>pdays</th>\n",
       "      <th>never_contacted_before</th>\n",
       "      <th>contact</th>\n",
       "      <th>poutcome</th>\n",
       "      <th>sales_fraud</th>\n",
       "    </tr>\n",
       "  </thead>\n",
       "  <tbody>\n",
       "    <tr>\n",
       "      <th>0</th>\n",
       "      <td>yes</td>\n",
       "      <td>0</td>\n",
       "      <td>2</td>\n",
       "      <td>-1</td>\n",
       "      <td>1</td>\n",
       "      <td>cellular</td>\n",
       "      <td>NaN</td>\n",
       "      <td>0</td>\n",
       "    </tr>\n",
       "    <tr>\n",
       "      <th>1</th>\n",
       "      <td>yes</td>\n",
       "      <td>0</td>\n",
       "      <td>3</td>\n",
       "      <td>-1</td>\n",
       "      <td>1</td>\n",
       "      <td>cellular</td>\n",
       "      <td>NaN</td>\n",
       "      <td>0</td>\n",
       "    </tr>\n",
       "    <tr>\n",
       "      <th>2</th>\n",
       "      <td>yes</td>\n",
       "      <td>0</td>\n",
       "      <td>1</td>\n",
       "      <td>352</td>\n",
       "      <td>0</td>\n",
       "      <td>cellular</td>\n",
       "      <td>other</td>\n",
       "      <td>0</td>\n",
       "    </tr>\n",
       "    <tr>\n",
       "      <th>3</th>\n",
       "      <td>no</td>\n",
       "      <td>1</td>\n",
       "      <td>1</td>\n",
       "      <td>-1</td>\n",
       "      <td>1</td>\n",
       "      <td>cellular</td>\n",
       "      <td>NaN</td>\n",
       "      <td>0</td>\n",
       "    </tr>\n",
       "    <tr>\n",
       "      <th>4</th>\n",
       "      <td>no</td>\n",
       "      <td>1</td>\n",
       "      <td>4</td>\n",
       "      <td>-1</td>\n",
       "      <td>1</td>\n",
       "      <td>telephone</td>\n",
       "      <td>NaN</td>\n",
       "      <td>1</td>\n",
       "    </tr>\n",
       "    <tr>\n",
       "      <th>5</th>\n",
       "      <td>no</td>\n",
       "      <td>1</td>\n",
       "      <td>1</td>\n",
       "      <td>-1</td>\n",
       "      <td>1</td>\n",
       "      <td>cellular</td>\n",
       "      <td>NaN</td>\n",
       "      <td>0</td>\n",
       "    </tr>\n",
       "    <tr>\n",
       "      <th>6</th>\n",
       "      <td>yes</td>\n",
       "      <td>0</td>\n",
       "      <td>2</td>\n",
       "      <td>-1</td>\n",
       "      <td>1</td>\n",
       "      <td>cellular</td>\n",
       "      <td>NaN</td>\n",
       "      <td>0</td>\n",
       "    </tr>\n",
       "    <tr>\n",
       "      <th>7</th>\n",
       "      <td>yes</td>\n",
       "      <td>0</td>\n",
       "      <td>2</td>\n",
       "      <td>21</td>\n",
       "      <td>0</td>\n",
       "      <td>cellular</td>\n",
       "      <td>failure</td>\n",
       "      <td>0</td>\n",
       "    </tr>\n",
       "    <tr>\n",
       "      <th>8</th>\n",
       "      <td>no</td>\n",
       "      <td>1</td>\n",
       "      <td>1</td>\n",
       "      <td>-1</td>\n",
       "      <td>1</td>\n",
       "      <td>cellular</td>\n",
       "      <td>NaN</td>\n",
       "      <td>1</td>\n",
       "    </tr>\n",
       "    <tr>\n",
       "      <th>9</th>\n",
       "      <td>no</td>\n",
       "      <td>1</td>\n",
       "      <td>1</td>\n",
       "      <td>-1</td>\n",
       "      <td>1</td>\n",
       "      <td>NaN</td>\n",
       "      <td>NaN</td>\n",
       "      <td>0</td>\n",
       "    </tr>\n",
       "  </tbody>\n",
       "</table>\n",
       "</div>"
      ],
      "text/plain": [
       "  deposit  churn  campaign  pdays  never_contacted_before    contact poutcome  \\\n",
       "0     yes      0         2     -1                       1   cellular      NaN   \n",
       "1     yes      0         3     -1                       1   cellular      NaN   \n",
       "2     yes      0         1    352                       0   cellular    other   \n",
       "3      no      1         1     -1                       1   cellular      NaN   \n",
       "4      no      1         4     -1                       1  telephone      NaN   \n",
       "5      no      1         1     -1                       1   cellular      NaN   \n",
       "6     yes      0         2     -1                       1   cellular      NaN   \n",
       "7     yes      0         2     21                       0   cellular  failure   \n",
       "8      no      1         1     -1                       1   cellular      NaN   \n",
       "9      no      1         1     -1                       1        NaN      NaN   \n",
       "\n",
       "   sales_fraud  \n",
       "0            0  \n",
       "1            0  \n",
       "2            0  \n",
       "3            0  \n",
       "4            1  \n",
       "5            0  \n",
       "6            0  \n",
       "7            0  \n",
       "8            1  \n",
       "9            0  "
      ]
     },
     "metadata": {},
     "output_type": "display_data"
    }
   ],
   "source": [
    "# Simulate sales_fraud\n",
    "def simulate_sales_fraud(data: pd.DataFrame, seed: int = 42) -> pd.Series:\n",
    "    \"\"\"\n",
    "    Simulasi flag fraud oleh sales berbasis beberapa sinyal & probabilitas:\n",
    "    - baseline prob ~ 0.07\n",
    "    - churners: +0.12\n",
    "    - campaign >= 5: +0.06\n",
    "    - never_contacted_before=1: +0.05\n",
    "    - contact is NaN: +0.05\n",
    "    - poutcome 'failure' atau 'other': +0.04\n",
    "    Prob dibatasi [0.005, 0.8].\n",
    "    \"\"\"\n",
    "    rng = np.random.default_rng(seed)\n",
    "    base = np.full(len(data), 0.07)\n",
    "\n",
    "    base += (data[\"churn\"] == 1).astype(float) * 0.12\n",
    "    base += (data[\"campaign\"] >= 5).astype(float) * 0.06\n",
    "    base += (data[\"never_contacted_before\"] == 1).astype(float) * 0.05\n",
    "    base += (data[\"contact\"].isna()).astype(float) * 0.05\n",
    "    base += (data[\"poutcome\"].fillna(\"\")\\\n",
    "             .isin([\"failure\",\"other\"]).astype(float)) * 0.04\n",
    "\n",
    "    base = np.clip(base, 0.005, 0.8)\n",
    "    return pd.Series(rng.uniform(size=len(data)) < base, index=data.index).astype(int)\n",
    "\n",
    "df_clean[\"sales_fraud\"] = simulate_sales_fraud(df_clean)\n",
    "\n",
    "display(df_clean[[\"deposit\",\"churn\",\"campaign\",\"pdays\",\"never_contacted_before\",\"contact\",\"poutcome\",\"sales_fraud\"]].head(10))"
   ]
  },
  {
   "cell_type": "markdown",
   "id": "bdd97d9d",
   "metadata": {},
   "source": [
    "### 5. EDA : Apakah sales yang fraud Berpengaruh ke Churn?\n"
   ]
  },
  {
   "cell_type": "markdown",
   "id": "bea2b3c1",
   "metadata": {},
   "source": [
    "#### Distribusi churn"
   ]
  },
  {
   "cell_type": "code",
   "execution_count": null,
   "id": "22c23538",
   "metadata": {},
   "outputs": [
    {
     "data": {
      "image/png": "[encoded data removed]",
      "text/plain": [
       "<Figure size 1000x600 with 1 Axes>"
      ]
     },
     "metadata": {},
     "output_type": "display_data"
    },
    {
     "name": "stdout",
     "output_type": "stream",
     "text": [
      "Churn rate: 0.522\n"
     ]
    }
   ],
   "source": [
    "# Distribusi churn\n",
    "fig, ax = plt.subplots()\n",
    "sns.countplot(x=\"churn\", data=df_clean, ax=ax)\n",
    "ax.set_title(\"Distribusi Churn\")\n",
    "ax.bar_label(ax.containers[0])\n",
    "plt.show()\n",
    "\n",
    "churn_rate = df_clean[\"churn\"].mean()\n",
    "print(f\"Churn rate: {churn_rate:.3f}\")"
   ]
  },
  {
   "cell_type": "markdown",
   "id": "10f5da9c",
   "metadata": {},
   "source": [
    "#### Churn vs sales_fraud"
   ]
  },
  {
   "cell_type": "code",
   "execution_count": null,
   "id": "bb7a47d7",
   "metadata": {},
   "outputs": [
    {
     "data": {
      "image/png": "[encoded data removed]",
      "text/plain": [
       "<Figure size 1000x600 with 1 Axes>"
      ]
     },
     "metadata": {},
     "output_type": "display_data"
    }
   ],
   "source": [
    "# Churn vs sales_fraud\n",
    "fig, ax = plt.subplots()\n",
    "sns.barplot(x=\"sales_fraud\", y=\"churn\", data=df_clean, estimator=np.mean, ax=ax)\n",
    "ax.set_title(\"Churn Rate by Sales Fraud\")\n",
    "ax.set_ylabel(\"Mean Churn\")\n",
    "plt.show()"
   ]
  },
  {
   "cell_type": "markdown",
   "id": "9976d8e4",
   "metadata": {},
   "source": [
    "#### Crosstab Churn X sales_fraud"
   ]
  },
  {
   "cell_type": "code",
   "execution_count": null,
   "id": "0896d187",
   "metadata": {},
   "outputs": [
    {
     "data": {
      "text/html": [
       "<style type=\"text/css\">\n",
       "#T_8f102_row0_col0, #T_8f102_row1_col1 {\n",
       "  background-color: #67000d;\n",
       "  color: #f1f1f1;\n",
       "}\n",
       "#T_8f102_row0_col1, #T_8f102_row1_col0 {\n",
       "  background-color: #fff5f0;\n",
       "  color: #000000;\n",
       "}\n",
       "</style>\n",
       "<table id=\"T_8f102\">\n",
       "  <caption>Distribusi Churn per Sales Fraud</caption>\n",
       "  <thead>\n",
       "    <tr>\n",
       "      <th class=\"index_name level0\" >churn</th>\n",
       "      <th id=\"T_8f102_level0_col0\" class=\"col_heading level0 col0\" >not_churn</th>\n",
       "      <th id=\"T_8f102_level0_col1\" class=\"col_heading level0 col1\" >churn</th>\n",
       "    </tr>\n",
       "    <tr>\n",
       "      <th class=\"index_name level0\" >sales_fraud</th>\n",
       "      <th class=\"blank col0\" >&nbsp;</th>\n",
       "      <th class=\"blank col1\" >&nbsp;</th>\n",
       "    </tr>\n",
       "  </thead>\n",
       "  <tbody>\n",
       "    <tr>\n",
       "      <th id=\"T_8f102_level0_row0\" class=\"row_heading level0 row0\" >0</th>\n",
       "      <td id=\"T_8f102_row0_col0\" class=\"data row0 col0\" >52.52%</td>\n",
       "      <td id=\"T_8f102_row0_col1\" class=\"data row0 col1\" >47.48%</td>\n",
       "    </tr>\n",
       "    <tr>\n",
       "      <th id=\"T_8f102_level0_row1\" class=\"row_heading level0 row1\" >1</th>\n",
       "      <td id=\"T_8f102_row1_col0\" class=\"data row1 col0\" >28.45%</td>\n",
       "      <td id=\"T_8f102_row1_col1\" class=\"data row1 col1\" >71.55%</td>\n",
       "    </tr>\n",
       "  </tbody>\n",
       "</table>\n"
      ],
      "text/plain": [
       "<pandas.io.formats.style.Styler at 0x29b098cd400>"
      ]
     },
     "metadata": {},
     "output_type": "display_data"
    }
   ],
   "source": [
    "# Crosstab churn * sales_fraud \n",
    "ct = pd.crosstab(df_clean[\"sales_fraud\"], df_clean[\"churn\"], normalize=\"index\").rename(columns={0:\"not_churn\",1:\"churn\"})\n",
    "styled_ct = ct.style.background_gradient(cmap=\"Reds\").format(\"{:.2%}\").set_caption(\"Distribusi Churn per Sales Fraud\")\n",
    "display(styled_ct)"
   ]
  },
  {
   "cell_type": "markdown",
   "id": "a3bfbfcd",
   "metadata": {},
   "source": [
    "#### Churn rate by Job (top categories)"
   ]
  },
  {
   "cell_type": "code",
   "execution_count": null,
   "id": "df26fea8",
   "metadata": {},
   "outputs": [
    {
     "data": {
      "image/png": "[encoded data removed]",
      "text/plain": [
       "<Figure size 1000x600 with 1 Axes>"
      ]
     },
     "metadata": {},
     "output_type": "display_data"
    }
   ],
   "source": [
    "# Churn rate by job (top categories)\n",
    "job_churn = df_clean.groupby(\"job\")[\"churn\"].mean().sort_values(ascending=False)\n",
    "fig, ax = plt.subplots()\n",
    "(job_churn.head(10)*100).plot(kind=\"bar\", ax=ax)\n",
    "ax.set_title(\"Top 10 Job dengan Churn Rate (%) Tertinggi\")\n",
    "ax.set_ylabel(\"Churn Rate (%)\")\n",
    "plt.show()"
   ]
  },
  {
   "cell_type": "markdown",
   "id": "57264bad",
   "metadata": {},
   "source": [
    "#### Numeric correlation with churn"
   ]
  },
  {
   "cell_type": "code",
   "execution_count": null,
   "id": "06c7ed37",
   "metadata": {},
   "outputs": [
    {
     "data": {
      "text/html": [
       "<style type=\"text/css\">\n",
       "#T_7656b_row0_col0 {\n",
       "  background-color: #b40426;\n",
       "  color: #f1f1f1;\n",
       "}\n",
       "#T_7656b_row1_col0 {\n",
       "  background-color: #97b8ff;\n",
       "  color: #000000;\n",
       "}\n",
       "#T_7656b_row2_col0 {\n",
       "  background-color: #8db0fe;\n",
       "  color: #000000;\n",
       "}\n",
       "#T_7656b_row3_col0 {\n",
       "  background-color: #8badfd;\n",
       "  color: #000000;\n",
       "}\n",
       "#T_7656b_row4_col0 {\n",
       "  background-color: #82a6fb;\n",
       "  color: #f1f1f1;\n",
       "}\n",
       "#T_7656b_row5_col0 {\n",
       "  background-color: #7ea1fa;\n",
       "  color: #f1f1f1;\n",
       "}\n",
       "#T_7656b_row6_col0 {\n",
       "  background-color: #7a9df8;\n",
       "  color: #f1f1f1;\n",
       "}\n",
       "#T_7656b_row7_col0 {\n",
       "  background-color: #4b64d5;\n",
       "  color: #f1f1f1;\n",
       "}\n",
       "#T_7656b_row8_col0 {\n",
       "  background-color: #465ecf;\n",
       "  color: #f1f1f1;\n",
       "}\n",
       "#T_7656b_row9_col0 {\n",
       "  background-color: #3b4cc0;\n",
       "  color: #f1f1f1;\n",
       "}\n",
       "</style>\n",
       "<table id=\"T_7656b\">\n",
       "  <thead>\n",
       "    <tr>\n",
       "      <th class=\"blank level0\" >&nbsp;</th>\n",
       "      <th id=\"T_7656b_level0_col0\" class=\"col_heading level0 col0\" >corr_with_churn</th>\n",
       "    </tr>\n",
       "  </thead>\n",
       "  <tbody>\n",
       "    <tr>\n",
       "      <th id=\"T_7656b_level0_row0\" class=\"row_heading level0 row0\" >churn</th>\n",
       "      <td id=\"T_7656b_row0_col0\" class=\"data row0 col0\" >1.000</td>\n",
       "    </tr>\n",
       "    <tr>\n",
       "      <th id=\"T_7656b_level0_row1\" class=\"row_heading level0 row1\" >has_housing</th>\n",
       "      <td id=\"T_7656b_row1_col0\" class=\"data row1 col0\" >0.211</td>\n",
       "    </tr>\n",
       "    <tr>\n",
       "      <th id=\"T_7656b_level0_row2\" class=\"row_heading level0 row2\" >calls_x_contact_unknown</th>\n",
       "      <td id=\"T_7656b_row2_col0\" class=\"data row2 col0\" >0.183</td>\n",
       "    </tr>\n",
       "    <tr>\n",
       "      <th id=\"T_7656b_level0_row3\" class=\"row_heading level0 row3\" >sales_fraud</th>\n",
       "      <td id=\"T_7656b_row3_col0\" class=\"data row3 col0\" >0.175</td>\n",
       "    </tr>\n",
       "    <tr>\n",
       "      <th id=\"T_7656b_level0_row4\" class=\"row_heading level0 row4\" >pdays_processed</th>\n",
       "      <td id=\"T_7656b_row4_col0\" class=\"data row4 col0\" >0.149</td>\n",
       "    </tr>\n",
       "    <tr>\n",
       "      <th id=\"T_7656b_level0_row5\" class=\"row_heading level0 row5\" >campaign</th>\n",
       "      <td id=\"T_7656b_row5_col0\" class=\"data row5 col0\" >0.134</td>\n",
       "    </tr>\n",
       "    <tr>\n",
       "      <th id=\"T_7656b_level0_row6\" class=\"row_heading level0 row6\" >has_loan</th>\n",
       "      <td id=\"T_7656b_row6_col0\" class=\"data row6 col0\" >0.121</td>\n",
       "    </tr>\n",
       "    <tr>\n",
       "      <th id=\"T_7656b_level0_row7\" class=\"row_heading level0 row7\" >month_ord</th>\n",
       "      <td id=\"T_7656b_row7_col0\" class=\"data row7 col0\" >-0.029</td>\n",
       "    </tr>\n",
       "    <tr>\n",
       "      <th id=\"T_7656b_level0_row8\" class=\"row_heading level0 row8\" >age</th>\n",
       "      <td id=\"T_7656b_row8_col0\" class=\"data row8 col0\" >-0.046</td>\n",
       "    </tr>\n",
       "    <tr>\n",
       "      <th id=\"T_7656b_level0_row9\" class=\"row_heading level0 row9\" >balance</th>\n",
       "      <td id=\"T_7656b_row9_col0\" class=\"data row9 col0\" >-0.092</td>\n",
       "    </tr>\n",
       "  </tbody>\n",
       "</table>\n"
      ],
      "text/plain": [
       "<pandas.io.formats.style.Styler at 0x15b1377f390>"
      ]
     },
     "metadata": {},
     "output_type": "display_data"
    }
   ],
   "source": [
    "# Numeric correlation with churn\n",
    "num_cols = [\"age\", \"balance\", \"campaign\", \"pdays_processed\", \"month_ord\", \"has_housing\", \"has_loan\", \"calls_x_contact_unknown\", \"sales_fraud\"]\n",
    "corr_vals = df_clean[num_cols + [\"churn\"]].corr()[\"churn\"].sort_values(ascending=False)\n",
    "display(corr_vals.to_frame(\"corr_with_churn\").style.background_gradient(cmap=\"coolwarm\").format(\"{:.3f}\"))"
   ]
  },
  {
   "cell_type": "markdown",
   "id": "4b7d7bfd",
   "metadata": {},
   "source": [
    "### Observasi awal:\n",
    "#### - Simulasi`sales_fraud` menunjukkan bahwa berkorelasi positif dengan `churn`\n",
    "#### - `campaign` tinggi dan tidak pernah dihubungi sebelumnya cenderung meningkatkan churn.\n",
    "#### - Variabel kategorikal seperti `job`, `poutcome`, `contact` juga ikut ambil andil atau berpengaruh."
   ]
  },
  {
   "cell_type": "markdown",
   "id": "356ee2ba",
   "metadata": {},
   "source": [
    "### 6. Modeling Setup (Train/Test Split & Preprocessing)"
   ]
  },
  {
   "cell_type": "code",
   "execution_count": null,
   "id": "74c6c7a5",
   "metadata": {},
   "outputs": [],
   "source": [
    "from sklearn.pipeline import Pipeline as SkPipeline"
   ]
  },
  {
   "cell_type": "code",
   "execution_count": null,
   "id": "b4db6bc2",
   "metadata": {},
   "outputs": [],
   "source": [
    "try:\n",
    "    categorical_transformer = OneHotEncoder(handle_unknown=\"ignore\", sparse_output=False)  # sklearn >= 1.2\n",
    "except TypeError:\n",
    "    categorical_transformer = OneHotEncoder(handle_unknown=\"ignore\", sparse=False)         # sklearn < 1.2"
   ]
  },
  {
   "cell_type": "code",
   "execution_count": null,
   "id": "8cac6107",
   "metadata": {},
   "outputs": [],
   "source": [
    "try:\n",
    "    from imblearn.pipeline import Pipeline as ImbPipeline\n",
    "    from imblearn.over_sampling import SMOTE\n",
    "    HAS_IMB = True\n",
    "except Exception:\n",
    "    ImbPipeline, SMOTE, HAS_IMB = None, None, False\n",
    "\n",
    "RANDOM_STATE = 42"
   ]
  },
  {
   "cell_type": "markdown",
   "id": "14f00e0c",
   "metadata": {},
   "source": [
    "#### Target churn"
   ]
  },
  {
   "cell_type": "code",
   "execution_count": null,
   "id": "eada37f1",
   "metadata": {},
   "outputs": [],
   "source": [
    "target = \"churn\"\n",
    "\n",
    "# Feature set awal\n",
    "feature_cols_num = [\n",
    "    \"age\", \"balance\", \"campaign\", \"pdays_processed\", \"month_ord\",\n",
    "    \"has_housing\", \"has_loan\", \"never_contacted_before\", \"calls_x_contact_unknown\", \"sales_fraud\"\n",
    "]\n",
    "feature_cols_cat = [\n",
    "    \"job\", \"contact\", \"poutcome\"\n",
    "]"
   ]
  },
  {
   "cell_type": "markdown",
   "id": "46af1902",
   "metadata": {},
   "source": [
    "#### Define X & y"
   ]
  },
  {
   "cell_type": "code",
   "execution_count": null,
   "id": "b8d5fadb",
   "metadata": {},
   "outputs": [],
   "source": [
    "# Subset & drop NA minimal \n",
    "X = df_clean[feature_cols_num + feature_cols_cat].copy()\n",
    "y = df_clean[target].copy()"
   ]
  },
  {
   "cell_type": "markdown",
   "id": "9d7cfa12",
   "metadata": {},
   "source": [
    "#### Data splitting"
   ]
  },
  {
   "cell_type": "code",
   "execution_count": null,
   "id": "fd573719",
   "metadata": {},
   "outputs": [
    {
     "name": "stdout",
     "output_type": "stream",
     "text": [
      "Train shape: (6250, 13) Test shape: (1563, 13)\n",
      "Churn rate (train): 0.522 | (test): 0.522\n"
     ]
    }
   ],
   "source": [
    "# Split data\n",
    "X_train, X_test, y_train, y_test = train_test_split(\n",
    "    X, y, test_size=0.20, stratify=y, random_state=42\n",
    ")\n",
    "print(\"Train shape:\", X_train.shape, \"Test shape:\", X_test.shape)\n",
    "print(\"Churn rate (train):\", y_train.mean().round(3), \"| (test):\", y_test.mean().round(3))"
   ]
  },
  {
   "cell_type": "markdown",
   "id": "c4434c31",
   "metadata": {},
   "source": [
    "#### Preprocessing"
   ]
  },
  {
   "cell_type": "code",
   "execution_count": null,
   "id": "1a1d0eaa",
   "metadata": {},
   "outputs": [],
   "source": [
    "# Preprocessor\n",
    "numeric_transformer = Pipeline(steps=[\n",
    "    (\"imputer\",  # Simple imputer; HistGB tidak butuh scaling, tapi kita standarkan untuk model lain\n",
    "        __import__(\"sklearn.impute\").impute.SimpleImputer(strategy=\"median\")),\n",
    "    (\"scaler\", StandardScaler(with_mean=False))\n",
    "])\n",
    "\n",
    "categorical_transformer = Pipeline(steps=[\n",
    "    (\"imputer\", __import__(\"sklearn.impute\").impute.SimpleImputer(strategy=\"most_frequent\")),\n",
    "    (\"onehot\", OneHotEncoder(handle_unknown=\"ignore\", sparse_output=True))\n",
    "])\n",
    "\n",
    "preprocess = ColumnTransformer(\n",
    "    transformers=[\n",
    "        (\"num\", numeric_transformer, feature_cols_num),\n",
    "        (\"cat\", categorical_transformer, feature_cols_cat),\n",
    "    ],\n",
    "    remainder=\"drop\",\n",
    "    sparse_threshold=0.3\n",
    ")\n"
   ]
  },
  {
   "cell_type": "markdown",
   "id": "88079445",
   "metadata": {},
   "source": [
    "### 8. Baseline Models\n"
   ]
  },
  {
   "cell_type": "code",
   "execution_count": null,
   "id": "ebc08288",
   "metadata": {},
   "outputs": [
    {
     "name": "stdout",
     "output_type": "stream",
     "text": [
      "== LogReg ==\n",
      "              precision    recall  f1-score   support\n",
      "\n",
      "           0      0.673     0.625     0.648       747\n",
      "           1      0.678     0.722     0.699       816\n",
      "\n",
      "    accuracy                          0.676      1563\n",
      "   macro avg      0.675     0.673     0.674      1563\n",
      "weighted avg      0.675     0.676     0.675      1563\n",
      "\n",
      "Confusion Matrix:\n",
      "[[467 280]\n",
      " [227 589]]\n"
     ]
    },
    {
     "data": {
      "image/png": "[encoded data removed]",
      "text/plain": [
       "<Figure size 1000x600 with 1 Axes>"
      ]
     },
     "metadata": {},
     "output_type": "display_data"
    },
    {
     "name": "stdout",
     "output_type": "stream",
     "text": [
      "== RandomForest ==\n",
      "              precision    recall  f1-score   support\n",
      "\n",
      "           0      0.690     0.633     0.660       747\n",
      "           1      0.688     0.739     0.712       816\n",
      "\n",
      "    accuracy                          0.688      1563\n",
      "   macro avg      0.689     0.686     0.686      1563\n",
      "weighted avg      0.688     0.688     0.687      1563\n",
      "\n",
      "Confusion Matrix:\n",
      "[[473 274]\n",
      " [213 603]]\n"
     ]
    },
    {
     "data": {
      "image/png": "[encoded data removed]",
      "text/plain": [
       "<Figure size 1000x600 with 1 Axes>"
      ]
     },
     "metadata": {},
     "output_type": "display_data"
    },
    {
     "name": "stdout",
     "output_type": "stream",
     "text": [
      "== HistGB ==\n",
      "              precision    recall  f1-score   support\n",
      "\n",
      "           0      0.721     0.608     0.659       747\n",
      "           1      0.686     0.784     0.732       816\n",
      "\n",
      "    accuracy                          0.700      1563\n",
      "   macro avg      0.703     0.696     0.696      1563\n",
      "weighted avg      0.703     0.700     0.697      1563\n",
      "\n",
      "Confusion Matrix:\n",
      "[[454 293]\n",
      " [176 640]]\n"
     ]
    },
    {
     "data": {
      "image/png": "[encoded data removed]",
      "text/plain": [
       "<Figure size 1000x600 with 1 Axes>"
      ]
     },
     "metadata": {},
     "output_type": "display_data"
    },
    {
     "data": {
      "text/html": [
       "<div>\n",
       "<style scoped>\n",
       "    .dataframe tbody tr th:only-of-type {\n",
       "        vertical-align: middle;\n",
       "    }\n",
       "\n",
       "    .dataframe tbody tr th {\n",
       "        vertical-align: top;\n",
       "    }\n",
       "\n",
       "    .dataframe thead th {\n",
       "        text-align: right;\n",
       "    }\n",
       "</style>\n",
       "<table border=\"1\" class=\"dataframe\">\n",
       "  <thead>\n",
       "    <tr style=\"text-align: right;\">\n",
       "      <th></th>\n",
       "      <th>accuracy</th>\n",
       "      <th>precision</th>\n",
       "      <th>recall</th>\n",
       "      <th>f1</th>\n",
       "      <th>roc_auc</th>\n",
       "    </tr>\n",
       "  </thead>\n",
       "  <tbody>\n",
       "    <tr>\n",
       "      <th>HistGB</th>\n",
       "      <td>0.699936</td>\n",
       "      <td>0.685959</td>\n",
       "      <td>0.784314</td>\n",
       "      <td>0.731847</td>\n",
       "      <td>0.754295</td>\n",
       "    </tr>\n",
       "    <tr>\n",
       "      <th>RandomForest</th>\n",
       "      <td>0.688420</td>\n",
       "      <td>0.687571</td>\n",
       "      <td>0.738971</td>\n",
       "      <td>0.712345</td>\n",
       "      <td>0.748314</td>\n",
       "    </tr>\n",
       "    <tr>\n",
       "      <th>LogReg</th>\n",
       "      <td>0.675624</td>\n",
       "      <td>0.677791</td>\n",
       "      <td>0.721814</td>\n",
       "      <td>0.699110</td>\n",
       "      <td>0.740034</td>\n",
       "    </tr>\n",
       "  </tbody>\n",
       "</table>\n",
       "</div>"
      ],
      "text/plain": [
       "              accuracy  precision    recall        f1   roc_auc\n",
       "HistGB        0.699936   0.685959  0.784314  0.731847  0.754295\n",
       "RandomForest  0.688420   0.687571  0.738971  0.712345  0.748314\n",
       "LogReg        0.675624   0.677791  0.721814  0.699110  0.740034"
      ]
     },
     "metadata": {},
     "output_type": "display_data"
    }
   ],
   "source": [
    "def evaluate_model(clf, X_tr, y_tr, X_te, y_te, name: str = \"model\") -> Dict[str, float]:\n",
    "    pred = clf.predict(X_te)\n",
    "    proba = clf.predict_proba(X_te)[:, 1] if hasattr(clf, \"predict_proba\") else None\n",
    "    acc = accuracy_score(y_te, pred)\n",
    "    prec = precision_score(y_te, pred)\n",
    "    rec = recall_score(y_te, pred)\n",
    "    f1 = f1_score(y_te, pred)\n",
    "    auc = roc_auc_score(y_te, proba) if proba is not None else np.nan\n",
    "    \n",
    "    print(f\"== {name} ==\")\n",
    "    print(classification_report(y_te, pred, digits=3))\n",
    "    print(\"Confusion Matrix:\")\n",
    "    print(confusion_matrix(y_te, pred))\n",
    "    if proba is not None:\n",
    "        fpr, tpr, _ = roc_curve(y_te, proba)\n",
    "        plt.plot(fpr, tpr, label=f\"{name} (AUC={auc:.3f})\")\n",
    "        plt.plot([0,1],[0,1],'k--')\n",
    "        plt.xlabel(\"FPR\"); plt.ylabel(\"TPR\"); plt.title(\"ROC Curve\")\n",
    "        plt.legend(); plt.show()\n",
    "    return {\"accuracy\": acc, \"precision\": prec, \"recall\": rec, \"f1\": f1, \"roc_auc\": auc}\n",
    "\n",
    "logreg_clf = ImbPipeline(steps=[\n",
    "    (\"preprocess\", preprocess),\n",
    "    (\"smote\", SMOTE(random_state=42)),\n",
    "    (\"clf\", LogisticRegression(max_iter=1000, class_weight=\"balanced\", n_jobs=None))\n",
    "])\n",
    "\n",
    "\n",
    "rf_clf = ImbPipeline(steps=[\n",
    "    (\"preprocess\", preprocess),\n",
    "    (\"smote\", SMOTE(random_state=42)),\n",
    "    (\"clf\", RandomForestClassifier(\n",
    "        n_estimators=300, random_state=42, class_weight=\"balanced_subsample\", n_jobs=-1\n",
    "    ))\n",
    "])\n",
    "\n",
    "\n",
    "hgb_clf = ImbPipeline(steps=[\n",
    "    (\"preprocess\", preprocess),\n",
    "    (\"smote\", SMOTE(random_state=42)),\n",
    "    (\"clf\", HistGradientBoostingClassifier(\n",
    "        max_depth=None, learning_rate=0.08, max_iter=300, random_state=42\n",
    "    ))\n",
    "])\n",
    "\n",
    "models = {\n",
    "    \"LogReg\": logreg_clf,\n",
    "    \"RandomForest\": rf_clf,\n",
    "    \"HistGB\": hgb_clf\n",
    "}\n",
    "\n",
    "results_baseline = {}\n",
    "for name, pipe in models.items():\n",
    "    pipe.fit(X_train, y_train)\n",
    "    res = evaluate_model(pipe, X_train, y_train, X_test, y_test, name=name)\n",
    "    results_baseline[name] = res\n",
    "\n",
    "display(pd.DataFrame(results_baseline).T.sort_values(\"roc_auc\", ascending=False))"
   ]
  },
  {
   "cell_type": "markdown",
   "id": "40ee31f0",
   "metadata": {},
   "source": [
    "### 9. Hyperparameter Tuning (RandomizedSearch)\n",
    "#### Menggunakan RandomizedSearchCV untuk model terbaik baseline"
   ]
  },
  {
   "cell_type": "code",
   "execution_count": null,
   "id": "53ecc194",
   "metadata": {},
   "outputs": [
    {
     "name": "stdout",
     "output_type": "stream",
     "text": [
      "Best baseline (by AUC): HistGB\n"
     ]
    }
   ],
   "source": [
    "# 1) Determine best baseline cleanly \n",
    "best_baseline = max(results_baseline.items(), key=lambda kv: kv[1][\"roc_auc\"])[0]\n",
    "print(\"Best baseline (by AUC):\", best_baseline)"
   ]
  },
  {
   "cell_type": "markdown",
   "id": "4cbd0b15",
   "metadata": {},
   "source": [
    "#### Pemilihan pipeline dan param space"
   ]
  },
  {
   "cell_type": "code",
   "execution_count": null,
   "id": "358eee16",
   "metadata": {},
   "outputs": [],
   "source": [
    "# 2) Choose pipeline and param space \n",
    "if best_baseline == \"RandomForest\":\n",
    "    model_to_tune = rf_clf\n",
    "    param_distributions = {\n",
    "        \"clf__n_estimators\": [200, 300, 400, 600, 800, 1000],\n",
    "        \"clf__max_depth\": [None, 5, 8, 12, 16, 20],\n",
    "        \"clf__min_samples_split\": [2, 5, 10, 20],\n",
    "        \"clf__min_samples_leaf\": [1, 2, 4, 8],\n",
    "        \"clf__max_features\": [\"sqrt\", \"log2\", None],\n",
    "        \"clf__bootstrap\": [True, False],\n",
    "    }\n",
    "elif best_baseline == \"HistGB\":\n",
    "    model_to_tune = hgb_clf\n",
    "    param_distributions = {\n",
    "        \"clf__learning_rate\": list(np.linspace(0.02, 0.2, 10)),\n",
    "        \"clf__max_iter\": [200, 300, 500, 800],\n",
    "        \"clf__max_depth\": [None, 3, 5, 10],\n",
    "        \"clf__l2_regularization\": list(np.linspace(0.0, 0.2, 5)),\n",
    "    }\n",
    "else:  # LogReg\n",
    "    model_to_tune = logreg_clf\n",
    "    param_distributions = {\n",
    "        \"clf__C\": list(np.logspace(-3, 2, 10)),\n",
    "        \"clf__penalty\": [\"l2\"],\n",
    "        \"clf__solver\": [\"lbfgs\", \"liblinear\", \"saga\"],\n",
    "    }\n",
    "\n",
    "cv = StratifiedKFold(n_splits=5, shuffle=True, random_state=42)"
   ]
  },
  {
   "cell_type": "markdown",
   "id": "be9d98cd",
   "metadata": {},
   "source": [
    "#### Membuat search object"
   ]
  },
  {
   "cell_type": "code",
   "execution_count": null,
   "id": "14e2edad",
   "metadata": {},
   "outputs": [],
   "source": [
    "# 3) Build the search object\n",
    "rand_search = RandomizedSearchCV(\n",
    "    estimator=model_to_tune,\n",
    "    param_distributions=param_distributions,\n",
    "    n_iter=30,\n",
    "    scoring=\"roc_auc\",\n",
    "    n_jobs=-1,          \n",
    "    cv=cv,\n",
    "    verbose=1,\n",
    "    random_state=42,\n",
    ")"
   ]
  },
  {
   "cell_type": "code",
   "execution_count": null,
   "id": "3e17961a",
   "metadata": {},
   "outputs": [
    {
     "name": "stdout",
     "output_type": "stream",
     "text": [
      "Fitting 5 folds for each of 30 candidates, totalling 150 fits\n",
      "Best params: {'clf__max_iter': 800, 'clf__max_depth': 3, 'clf__learning_rate': np.float64(0.02), 'clf__l2_regularization': np.float64(0.1)}\n",
      "Best CV AUC: 0.7707275530280294\n",
      "== Tuned_HistGB ==\n",
      "              precision    recall  f1-score   support\n",
      "\n",
      "           0      0.752     0.628     0.684       747\n",
      "           1      0.704     0.810     0.753       816\n",
      "\n",
      "    accuracy                          0.723      1563\n",
      "   macro avg      0.728     0.719     0.719      1563\n",
      "weighted avg      0.727     0.723     0.720      1563\n",
      "\n",
      "Confusion Matrix:\n",
      "[[469 278]\n",
      " [155 661]]\n"
     ]
    },
    {
     "data": {
      "image/png": "[encoded data removed]",
      "text/plain": [
       "<Figure size 1000x600 with 1 Axes>"
      ]
     },
     "metadata": {},
     "output_type": "display_data"
    }
   ],
   "source": [
    "# 4) Fit with a thread-based backend first to avoid pickling issues in notebooks\n",
    "#    If that still fails, fallback to n_jobs=1 (no parallelism).\n",
    "try:\n",
    "    with joblib.parallel_backend(\"threading\", n_jobs=-1):\n",
    "        rand_search.fit(X_train, y_train)\n",
    "except Exception as e:\n",
    "    warnings.warn(f\"Parallel (threading) failed due to: {e}. Falling back to n_jobs=1.\")\n",
    "    rand_search.set_params(n_jobs=1)\n",
    "    rand_search.fit(X_train, y_train)\n",
    "\n",
    "print(\"Best params:\", rand_search.best_params_)\n",
    "print(\"Best CV AUC:\", rand_search.best_score_)\n",
    "\n",
    "best_model = rand_search.best_estimator_\n",
    "tuned_results = evaluate_model(\n",
    "    best_model, X_train, y_train, X_test, y_test, name=f\"Tuned_{best_baseline}\"\n",
    ")"
   ]
  },
  {
   "cell_type": "markdown",
   "id": "6d90c7ec",
   "metadata": {},
   "source": [
    "### 10. Feature Importance (Permutation) untuk Model Terbaik\n",
    "\n"
   ]
  },
  {
   "cell_type": "code",
   "execution_count": null,
   "id": "10bd5864",
   "metadata": {},
   "outputs": [],
   "source": [
    "# Gunakan sample kecil untuk percepat \n",
    "X_test_small = X_test.copy()\n",
    "y_test_small = y_test.copy()\n"
   ]
  },
  {
   "cell_type": "code",
   "execution_count": null,
   "id": "4c6f513c",
   "metadata": {},
   "outputs": [],
   "source": [
    "\n",
    "try:\n",
    "    with joblib.parallel_backend(\"threading\", n_jobs=-1):\n",
    "        perm = permutation_importance(\n",
    "            best_model,\n",
    "            X_test_small,\n",
    "            y_test_small,\n",
    "            scoring=\"roc_auc\",\n",
    "            n_repeats=10,\n",
    "            random_state=42,\n",
    "            n_jobs=-1,  # threads backend avoids pickling\n",
    "        )\n",
    "except Exception as e:\n",
    "    warnings.warn(f\"Threaded permutation_importance failed: {e}. Falling back to n_jobs=1.\")\n",
    "    perm = permutation_importance(\n",
    "        best_model,\n",
    "        X_test_small,\n",
    "        y_test_small,\n",
    "        scoring=\"roc_auc\",\n",
    "        n_repeats=10,\n",
    "        random_state=42,\n",
    "        n_jobs=1,  # no parallelism\n",
    "    )\n",
    "\n",
    "importances = perm.importances_mean\n",
    "stds = perm.importances_std\n"
   ]
  },
  {
   "cell_type": "code",
   "execution_count": null,
   "id": "323d455f",
   "metadata": {},
   "outputs": [
    {
     "data": {
      "text/html": [
       "<div>\n",
       "<style scoped>\n",
       "    .dataframe tbody tr th:only-of-type {\n",
       "        vertical-align: middle;\n",
       "    }\n",
       "\n",
       "    .dataframe tbody tr th {\n",
       "        vertical-align: top;\n",
       "    }\n",
       "\n",
       "    .dataframe thead th {\n",
       "        text-align: right;\n",
       "    }\n",
       "</style>\n",
       "<table border=\"1\" class=\"dataframe\">\n",
       "  <thead>\n",
       "    <tr style=\"text-align: right;\">\n",
       "      <th></th>\n",
       "      <th>feature</th>\n",
       "      <th>importance</th>\n",
       "      <th>std</th>\n",
       "    </tr>\n",
       "  </thead>\n",
       "  <tbody>\n",
       "    <tr>\n",
       "      <th>0</th>\n",
       "      <td>month_ord</td>\n",
       "      <td>0.047235</td>\n",
       "      <td>0.007227</td>\n",
       "    </tr>\n",
       "    <tr>\n",
       "      <th>1</th>\n",
       "      <td>poutcome</td>\n",
       "      <td>0.037910</td>\n",
       "      <td>0.003698</td>\n",
       "    </tr>\n",
       "    <tr>\n",
       "      <th>2</th>\n",
       "      <td>sales_fraud</td>\n",
       "      <td>0.024187</td>\n",
       "      <td>0.004066</td>\n",
       "    </tr>\n",
       "    <tr>\n",
       "      <th>3</th>\n",
       "      <td>has_housing</td>\n",
       "      <td>0.017362</td>\n",
       "      <td>0.004220</td>\n",
       "    </tr>\n",
       "    <tr>\n",
       "      <th>4</th>\n",
       "      <td>age</td>\n",
       "      <td>0.016021</td>\n",
       "      <td>0.003195</td>\n",
       "    </tr>\n",
       "    <tr>\n",
       "      <th>5</th>\n",
       "      <td>balance</td>\n",
       "      <td>0.011140</td>\n",
       "      <td>0.003195</td>\n",
       "    </tr>\n",
       "    <tr>\n",
       "      <th>6</th>\n",
       "      <td>pdays_processed</td>\n",
       "      <td>0.008783</td>\n",
       "      <td>0.003051</td>\n",
       "    </tr>\n",
       "    <tr>\n",
       "      <th>7</th>\n",
       "      <td>has_loan</td>\n",
       "      <td>0.005392</td>\n",
       "      <td>0.001478</td>\n",
       "    </tr>\n",
       "    <tr>\n",
       "      <th>8</th>\n",
       "      <td>campaign</td>\n",
       "      <td>0.004926</td>\n",
       "      <td>0.003085</td>\n",
       "    </tr>\n",
       "    <tr>\n",
       "      <th>9</th>\n",
       "      <td>never_contacted_before</td>\n",
       "      <td>0.003809</td>\n",
       "      <td>0.002672</td>\n",
       "    </tr>\n",
       "    <tr>\n",
       "      <th>10</th>\n",
       "      <td>calls_x_contact_unknown</td>\n",
       "      <td>0.001189</td>\n",
       "      <td>0.000668</td>\n",
       "    </tr>\n",
       "    <tr>\n",
       "      <th>11</th>\n",
       "      <td>contact</td>\n",
       "      <td>0.001016</td>\n",
       "      <td>0.001279</td>\n",
       "    </tr>\n",
       "    <tr>\n",
       "      <th>12</th>\n",
       "      <td>job</td>\n",
       "      <td>-0.000160</td>\n",
       "      <td>0.002471</td>\n",
       "    </tr>\n",
       "  </tbody>\n",
       "</table>\n",
       "</div>"
      ],
      "text/plain": [
       "                    feature  importance       std\n",
       "0                 month_ord    0.047235  0.007227\n",
       "1                  poutcome    0.037910  0.003698\n",
       "2               sales_fraud    0.024187  0.004066\n",
       "3               has_housing    0.017362  0.004220\n",
       "4                       age    0.016021  0.003195\n",
       "5                   balance    0.011140  0.003195\n",
       "6           pdays_processed    0.008783  0.003051\n",
       "7                  has_loan    0.005392  0.001478\n",
       "8                  campaign    0.004926  0.003085\n",
       "9    never_contacted_before    0.003809  0.002672\n",
       "10  calls_x_contact_unknown    0.001189  0.000668\n",
       "11                  contact    0.001016  0.001279\n",
       "12                      job   -0.000160  0.002471"
      ]
     },
     "metadata": {},
     "output_type": "display_data"
    }
   ],
   "source": [
    "# Feature names correspond to the INPUT space of your pipeline (pre-preprocessing)\n",
    "\n",
    "if hasattr(X_test_small, \"columns\"):\n",
    "    feature_names = list(X_test_small.columns)\n",
    "else:\n",
    "    feature_names = [f\"feature_{i}\" for i in range(importances.size)]\n",
    "\n",
    "if len(feature_names) != importances.size:\n",
    "    warnings.warn(\n",
    "        f\"Feature name count ({len(feature_names)}) != importances size ({importances.size}). \"\n",
    "        \"Falling back to generic names.\"\n",
    "    )\n",
    "    feature_names = [f\"feature_{i}\" for i in range(importances.size)]\n",
    "\n",
    "imp_df = (\n",
    "    pd.DataFrame(\n",
    "        {\"feature\": feature_names, \"importance\": importances, \"std\": stds}\n",
    "    )\n",
    "    .sort_values(\"importance\", ascending=False)\n",
    "    .reset_index(drop=True)\n",
    ")\n",
    "\n",
    "# Display top 20 features\n",
    "display(imp_df.head(20))"
   ]
  },
  {
   "cell_type": "code",
   "execution_count": null,
   "id": "6b155c63",
   "metadata": {},
   "outputs": [
    {
     "data": {
      "image/png": "[encoded data removed]",
      "text/plain": [
       "<Figure size 1000x700 with 1 Axes>"
      ]
     },
     "metadata": {},
     "output_type": "display_data"
    }
   ],
   "source": [
    "# Barplot\n",
    "top_k = 20\n",
    "plt.figure(figsize=(10, 7))\n",
    "sns.barplot(\n",
    "    data=imp_df.head(top_k),\n",
    "    y=\"feature\",\n",
    "    x=\"importance\",\n",
    "    color=\"#4C72B0\"\n",
    ")\n",
    "plt.title(\"Permutation Importances (input features) - Top 20\")\n",
    "plt.xlabel(\"Mean Importance (AUC drop)\")\n",
    "plt.ylabel(\"Feature\")\n",
    "plt.tight_layout()\n",
    "plt.show()\n"
   ]
  },
  {
   "cell_type": "markdown",
   "id": "e925fa91",
   "metadata": {},
   "source": [
    "\n",
    "#### Perhatikan `sales_fraud` muncul sebagai salah satu feature penting.\n",
    "#### Ini menunjukkan hubungan bahwa churn dipengaruhi oleh adanya indikasi fraud."
   ]
  },
  {
   "cell_type": "markdown",
   "id": "96a3d82b",
   "metadata": {},
   "source": [
    "\n",
    "### 11. Dampak `sales_fraud`terhadap bisnis"
   ]
  },
  {
   "cell_type": "markdown",
   "id": "91760c8b",
   "metadata": {},
   "source": [
    "#### Perbandingan tanpa `sales_fraud` vs dengan `sales_fraud`"
   ]
  },
  {
   "cell_type": "code",
   "execution_count": null,
   "id": "4ad6cc5e",
   "metadata": {},
   "outputs": [
    {
     "name": "stdout",
     "output_type": "stream",
     "text": [
      "== LogReg_no_sales_fraud ==\n",
      "              precision    recall  f1-score   support\n",
      "\n",
      "           0      0.699     0.594     0.643       747\n",
      "           1      0.673     0.766     0.717       816\n",
      "\n",
      "    accuracy                          0.684      1563\n",
      "   macro avg      0.686     0.680     0.680      1563\n",
      "weighted avg      0.686     0.684     0.681      1563\n",
      "\n",
      "Confusion Matrix:\n",
      "[[444 303]\n",
      " [191 625]]\n"
     ]
    },
    {
     "data": {
      "image/png": "[encoded data removed]",
      "text/plain": [
       "<Figure size 1000x600 with 1 Axes>"
      ]
     },
     "metadata": {},
     "output_type": "display_data"
    },
    {
     "name": "stdout",
     "output_type": "stream",
     "text": [
      "== LogReg_with_sales_fraud ==\n",
      "              precision    recall  f1-score   support\n",
      "\n",
      "           0      0.673     0.625     0.648       747\n",
      "           1      0.678     0.722     0.699       816\n",
      "\n",
      "    accuracy                          0.676      1563\n",
      "   macro avg      0.675     0.673     0.674      1563\n",
      "weighted avg      0.675     0.676     0.675      1563\n",
      "\n",
      "Confusion Matrix:\n",
      "[[467 280]\n",
      " [227 589]]\n"
     ]
    },
    {
     "data": {
      "image/png": "[encoded data removed]",
      "text/plain": [
       "<Figure size 1000x600 with 1 Axes>"
      ]
     },
     "metadata": {},
     "output_type": "display_data"
    },
    {
     "data": {
      "text/html": [
       "<div>\n",
       "<style scoped>\n",
       "    .dataframe tbody tr th:only-of-type {\n",
       "        vertical-align: middle;\n",
       "    }\n",
       "\n",
       "    .dataframe tbody tr th {\n",
       "        vertical-align: top;\n",
       "    }\n",
       "\n",
       "    .dataframe thead th {\n",
       "        text-align: right;\n",
       "    }\n",
       "</style>\n",
       "<table border=\"1\" class=\"dataframe\">\n",
       "  <thead>\n",
       "    <tr style=\"text-align: right;\">\n",
       "      <th></th>\n",
       "      <th>accuracy</th>\n",
       "      <th>precision</th>\n",
       "      <th>recall</th>\n",
       "      <th>f1</th>\n",
       "      <th>roc_auc</th>\n",
       "    </tr>\n",
       "  </thead>\n",
       "  <tbody>\n",
       "    <tr>\n",
       "      <th>No Fraud Feature</th>\n",
       "      <td>0.683941</td>\n",
       "      <td>0.673491</td>\n",
       "      <td>0.765931</td>\n",
       "      <td>0.716743</td>\n",
       "      <td>0.725560</td>\n",
       "    </tr>\n",
       "    <tr>\n",
       "      <th>With Fraud Feature</th>\n",
       "      <td>0.675624</td>\n",
       "      <td>0.677791</td>\n",
       "      <td>0.721814</td>\n",
       "      <td>0.699110</td>\n",
       "      <td>0.740034</td>\n",
       "    </tr>\n",
       "  </tbody>\n",
       "</table>\n",
       "</div>"
      ],
      "text/plain": [
       "                    accuracy  precision    recall        f1   roc_auc\n",
       "No Fraud Feature    0.683941   0.673491  0.765931  0.716743  0.725560\n",
       "With Fraud Feature  0.675624   0.677791  0.721814  0.699110  0.740034"
      ]
     },
     "metadata": {},
     "output_type": "display_data"
    }
   ],
   "source": [
    "# Tanpa sales_fraud\n",
    "feature_cols_num_no_fraud = [c for c in feature_cols_num if c != \"sales_fraud\"]\n",
    "X_no_fraud = df_clean[feature_cols_cat + feature_cols_num_no_fraud].copy()\n",
    "\n",
    "X_train_nf, X_test_nf, y_train_nf, y_test_nf = train_test_split(\n",
    "    X_no_fraud, y, test_size=0.20, stratify=y, random_state=42\n",
    ")\n",
    "\n",
    "numeric_transformer_nf = Pipeline(steps=[\n",
    "    (\"imputer\", __import__(\"sklearn.impute\").impute.SimpleImputer(strategy=\"median\")),\n",
    "    (\"scaler\", StandardScaler(with_mean=False))\n",
    "])\n",
    "categorical_transformer_nf = Pipeline(steps=[\n",
    "    (\"imputer\", __import__(\"sklearn.impute\").impute.SimpleImputer(strategy=\"most_frequent\")),\n",
    "    (\"onehot\", OneHotEncoder(handle_unknown=\"ignore\", sparse_output=True))\n",
    "])\n",
    "\n",
    "preprocess_nf = ColumnTransformer(\n",
    "    transformers=[\n",
    "        (\"num\", numeric_transformer_nf, feature_cols_num_no_fraud),\n",
    "        (\"cat\", categorical_transformer_nf, feature_cols_cat),\n",
    "    ],\n",
    "    remainder=\"drop\",\n",
    "    sparse_threshold=0.3\n",
    ")\n",
    "\n",
    "logreg_nf = ImbPipeline(steps=[\n",
    "    (\"preprocess\", preprocess_nf),\n",
    "    (\"smote\", SMOTE(random_state=42)),\n",
    "    (\"clf\", LogisticRegression(max_iter=1000, class_weight=\"balanced\"))\n",
    "])\n",
    "\n",
    "logreg_nf.fit(X_train_nf, y_train_nf)\n",
    "res_nf = evaluate_model(logreg_nf, X_train_nf, y_train_nf, X_test_nf, y_test_nf, name=\"LogReg_no_sales_fraud\")\n",
    "\n",
    "# Dengan sales_fraud (logreg)\n",
    "logreg_wf = ImbPipeline(steps=[\n",
    "    (\"preprocess\", preprocess),\n",
    "    (\"smote\", SMOTE(random_state=42)),\n",
    "    (\"clf\", LogisticRegression(max_iter=1000, class_weight=\"balanced\"))\n",
    "])\n",
    "logreg_wf.fit(X_train, y_train)\n",
    "res_wf = evaluate_model(logreg_wf, X_train, y_train, X_test, y_test, name=\"LogReg_with_sales_fraud\")\n",
    "\n",
    "comparison = pd.DataFrame([res_nf, res_wf], index=[\"No Fraud Feature\",\"With Fraud Feature\"])\n",
    "display(comparison)\n"
   ]
  },
  {
   "cell_type": "markdown",
   "id": "7c65b7b6",
   "metadata": {},
   "source": [
    "\n",
    "#### Metrik (terutama AUC/F1/Recall) meningkat saat `sales_fraud` disertakan, maka anomali tersebut bisa disimpulkan bahwa betul sales yang fraud mempengaruhi nasabah churn atau tidaknya\n",
    "#### variabel tersebut memberikan sinyal yang relevan dan churn terpengaruh oleh indikasi fraud."
   ]
  },
  {
   "cell_type": "markdown",
   "id": "48c49c92",
   "metadata": {},
   "source": [
    "### 12. Simulasi Tabel Report Visual"
   ]
  },
  {
   "cell_type": "markdown",
   "id": "54f28f30",
   "metadata": {},
   "source": [
    "#### Tabel churn rate per kategori esensial"
   ]
  },
  {
   "cell_type": "code",
   "execution_count": null,
   "id": "ee921b36",
   "metadata": {},
   "outputs": [
    {
     "data": {
      "text/html": [
       "<style type=\"text/css\">\n",
       "#T_7f03f_row0_col0, #T_7f03f_row0_col1 {\n",
       "  background-color: #fff5f0;\n",
       "  color: #000000;\n",
       "}\n",
       "#T_7f03f_row1_col0 {\n",
       "  background-color: #fdc6b0;\n",
       "  color: #000000;\n",
       "}\n",
       "#T_7f03f_row1_col1 {\n",
       "  background-color: #fff3ed;\n",
       "  color: #000000;\n",
       "}\n",
       "#T_7f03f_row2_col0, #T_7f03f_row2_col1 {\n",
       "  background-color: #67000d;\n",
       "  color: #f1f1f1;\n",
       "}\n",
       "</style>\n",
       "<table id=\"T_7f03f\">\n",
       "  <caption>Churn Rate by Contact x Sales Fraud</caption>\n",
       "  <thead>\n",
       "    <tr>\n",
       "      <th class=\"index_name level0\" >sales_fraud</th>\n",
       "      <th id=\"T_7f03f_level0_col0\" class=\"col_heading level0 col0\" >0</th>\n",
       "      <th id=\"T_7f03f_level0_col1\" class=\"col_heading level0 col1\" >1</th>\n",
       "    </tr>\n",
       "    <tr>\n",
       "      <th class=\"index_name level0\" >contact</th>\n",
       "      <th class=\"blank col0\" >&nbsp;</th>\n",
       "      <th class=\"blank col1\" >&nbsp;</th>\n",
       "    </tr>\n",
       "  </thead>\n",
       "  <tbody>\n",
       "    <tr>\n",
       "      <th id=\"T_7f03f_level0_row0\" class=\"row_heading level0 row0\" >cellular</th>\n",
       "      <td id=\"T_7f03f_row0_col0\" class=\"data row0 col0\" >40.62%</td>\n",
       "      <td id=\"T_7f03f_row0_col1\" class=\"data row0 col1\" >64.80%</td>\n",
       "    </tr>\n",
       "    <tr>\n",
       "      <th id=\"T_7f03f_level0_row1\" class=\"row_heading level0 row1\" >telephone</th>\n",
       "      <td id=\"T_7f03f_row1_col0\" class=\"data row1 col0\" >47.83%</td>\n",
       "      <td id=\"T_7f03f_row1_col1\" class=\"data row1 col1\" >65.12%</td>\n",
       "    </tr>\n",
       "    <tr>\n",
       "      <th id=\"T_7f03f_level0_row2\" class=\"row_heading level0 row2\" >unknown</th>\n",
       "      <td id=\"T_7f03f_row2_col0\" class=\"data row2 col0\" >74.20%</td>\n",
       "      <td id=\"T_7f03f_row2_col1\" class=\"data row2 col1\" >87.53%</td>\n",
       "    </tr>\n",
       "  </tbody>\n",
       "</table>\n"
      ],
      "text/plain": [
       "<pandas.io.formats.style.Styler at 0x29b0ceaae90>"
      ]
     },
     "metadata": {},
     "output_type": "display_data"
    }
   ],
   "source": [
    "# Churn rate by contact & fraud\n",
    "pivot_cf = pd.crosstab(df_clean[\"contact\"].fillna(\"unknown\"), df_clean[\"sales_fraud\"], values=df_clean[\"churn\"], aggfunc=\"mean\").fillna(0)\n",
    "styled_pivot_cf = pivot_cf.style.background_gradient(cmap=\"Reds\").format(\"{:.2%}\").set_caption(\"Churn Rate by Contact x Sales Fraud\")\n",
    "display(styled_pivot_cf)"
   ]
  },
  {
   "cell_type": "code",
   "execution_count": null,
   "id": "959afd7b",
   "metadata": {},
   "outputs": [
    {
     "data": {
      "text/html": [
       "<style type=\"text/css\">\n",
       "#T_b9d2f_row0_col0 {\n",
       "  background-color: #b71319;\n",
       "  color: #f1f1f1;\n",
       "}\n",
       "#T_b9d2f_row1_col0 {\n",
       "  background-color: #f34935;\n",
       "  color: #f1f1f1;\n",
       "}\n",
       "#T_b9d2f_row2_col0 {\n",
       "  background-color: #fff5f0;\n",
       "  color: #000000;\n",
       "}\n",
       "#T_b9d2f_row3_col0 {\n",
       "  background-color: #fb7353;\n",
       "  color: #f1f1f1;\n",
       "}\n",
       "#T_b9d2f_row4_col0 {\n",
       "  background-color: #67000d;\n",
       "  color: #f1f1f1;\n",
       "}\n",
       "#T_b9d2f_row5_col0 {\n",
       "  background-color: #be151a;\n",
       "  color: #f1f1f1;\n",
       "}\n",
       "#T_b9d2f_row6_col0 {\n",
       "  background-color: #a81016;\n",
       "  color: #f1f1f1;\n",
       "}\n",
       "#T_b9d2f_row7_col0 {\n",
       "  background-color: #c2161b;\n",
       "  color: #f1f1f1;\n",
       "}\n",
       "#T_b9d2f_row8_col0 {\n",
       "  background-color: #fee7db;\n",
       "  color: #000000;\n",
       "}\n",
       "#T_b9d2f_row9_col0 {\n",
       "  background-color: #fee9df;\n",
       "  color: #000000;\n",
       "}\n",
       "#T_b9d2f_row10_col0 {\n",
       "  background-color: #b91419;\n",
       "  color: #f1f1f1;\n",
       "}\n",
       "#T_b9d2f_row11_col0 {\n",
       "  background-color: #fff3ed;\n",
       "  color: #000000;\n",
       "}\n",
       "</style>\n",
       "<table id=\"T_b9d2f\">\n",
       "  <caption>Churn Rate by Month</caption>\n",
       "  <thead>\n",
       "    <tr>\n",
       "      <th class=\"blank level0\" >&nbsp;</th>\n",
       "      <th id=\"T_b9d2f_level0_col0\" class=\"col_heading level0 col0\" >churn_rate</th>\n",
       "    </tr>\n",
       "    <tr>\n",
       "      <th class=\"index_name level0\" >month_ord</th>\n",
       "      <th class=\"blank col0\" >&nbsp;</th>\n",
       "    </tr>\n",
       "  </thead>\n",
       "  <tbody>\n",
       "    <tr>\n",
       "      <th id=\"T_b9d2f_level0_row0\" class=\"row_heading level0 row0\" >1</th>\n",
       "      <td id=\"T_b9d2f_row0_col0\" class=\"data row0 col0\" >56.39%</td>\n",
       "    </tr>\n",
       "    <tr>\n",
       "      <th id=\"T_b9d2f_level0_row1\" class=\"row_heading level0 row1\" >2</th>\n",
       "      <td id=\"T_b9d2f_row1_col0\" class=\"data row1 col0\" >43.63%</td>\n",
       "    </tr>\n",
       "    <tr>\n",
       "      <th id=\"T_b9d2f_level0_row2\" class=\"row_heading level0 row2\" >3</th>\n",
       "      <td id=\"T_b9d2f_row2_col0\" class=\"data row2 col0\" >11.06%</td>\n",
       "    </tr>\n",
       "    <tr>\n",
       "      <th id=\"T_b9d2f_level0_row3\" class=\"row_heading level0 row3\" >4</th>\n",
       "      <td id=\"T_b9d2f_row3_col0\" class=\"data row3 col0\" >37.31%</td>\n",
       "    </tr>\n",
       "    <tr>\n",
       "      <th id=\"T_b9d2f_level0_row4\" class=\"row_heading level0 row4\" >5</th>\n",
       "      <td id=\"T_b9d2f_row4_col0\" class=\"data row4 col0\" >66.65%</td>\n",
       "    </tr>\n",
       "    <tr>\n",
       "      <th id=\"T_b9d2f_level0_row5\" class=\"row_heading level0 row5\" >6</th>\n",
       "      <td id=\"T_b9d2f_row5_col0\" class=\"data row5 col0\" >55.08%</td>\n",
       "    </tr>\n",
       "    <tr>\n",
       "      <th id=\"T_b9d2f_level0_row6\" class=\"row_heading level0 row6\" >7</th>\n",
       "      <td id=\"T_b9d2f_row6_col0\" class=\"data row6 col0\" >59.14%</td>\n",
       "    </tr>\n",
       "    <tr>\n",
       "      <th id=\"T_b9d2f_level0_row7\" class=\"row_heading level0 row7\" >8</th>\n",
       "      <td id=\"T_b9d2f_row7_col0\" class=\"data row7 col0\" >54.29%</td>\n",
       "    </tr>\n",
       "    <tr>\n",
       "      <th id=\"T_b9d2f_level0_row8\" class=\"row_heading level0 row8\" >9</th>\n",
       "      <td id=\"T_b9d2f_row8_col0\" class=\"data row8 col0\" >16.04%</td>\n",
       "    </tr>\n",
       "    <tr>\n",
       "      <th id=\"T_b9d2f_level0_row9\" class=\"row_heading level0 row9\" >10</th>\n",
       "      <td id=\"T_b9d2f_row9_col0\" class=\"data row9 col0\" >15.03%</td>\n",
       "    </tr>\n",
       "    <tr>\n",
       "      <th id=\"T_b9d2f_level0_row10\" class=\"row_heading level0 row10\" >11</th>\n",
       "      <td id=\"T_b9d2f_row10_col0\" class=\"data row10 col0\" >55.86%</td>\n",
       "    </tr>\n",
       "    <tr>\n",
       "      <th id=\"T_b9d2f_level0_row11\" class=\"row_heading level0 row11\" >12</th>\n",
       "      <td id=\"T_b9d2f_row11_col0\" class=\"data row11 col0\" >11.76%</td>\n",
       "    </tr>\n",
       "  </tbody>\n",
       "</table>\n"
      ],
      "text/plain": [
       "<pandas.io.formats.style.Styler at 0x29b0cea8a50>"
      ]
     },
     "metadata": {},
     "output_type": "display_data"
    }
   ],
   "source": [
    "# Churn per month\n",
    "pivot_month = df_clean.groupby(\"month_ord\")[\"churn\"].mean().to_frame(\"churn_rate\")\n",
    "styled_month = pivot_month.style.background_gradient(cmap=\"Reds\").format(\"{:.2%}\").set_caption(\"Churn Rate by Month\")\n",
    "display(styled_month)"
   ]
  },
  {
   "cell_type": "markdown",
   "id": "5b93f305",
   "metadata": {},
   "source": [
    "### 13. Save model untuk deployment\n"
   ]
  },
  {
   "cell_type": "code",
   "execution_count": null,
   "id": "42040398",
   "metadata": {},
   "outputs": [],
   "source": [
    "month_order = [\"jan\",\"feb\",\"mar\",\"apr\",\"may\",\"jun\",\"jul\",\"aug\",\"sep\",\"oct\",\"nov\",\"dec\"]\n",
    "\n",
    "# If you simulated 'sales_fraud' during training, keep the same rule for inference\n",
    "def simulate_sales_fraud(data: pd.DataFrame, seed: int = 123) -> pd.Series:\n",
    "    rng = np.random.default_rng(seed)\n",
    "    base = np.full(len(data), 0.07, dtype=float)\n",
    "    base += (data.get(\"churn\", 0) == 1).astype(float) * 0.12\n",
    "    base += (data.get(\"campaign\", 0) >= 5).astype(float) * 0.06\n",
    "    base += (data.get(\"pdays\", 0) == -1).astype(float) * 0.05\n",
    "    base += (pd.isna(data.get(\"contact\", None))).astype(float) * 0.05\n",
    "    pout = data.get(\"poutcome\", pd.Series([\"\"], index=data.index)).fillna(\"\")\n",
    "    base += pout.isin([\"failure\", \"other\"]).astype(float) * 0.04\n",
    "    base = np.clip(base, 0.005, 0.8)\n",
    "    return pd.Series(rng.uniform(size=len(data)) < base, index=data.index).astype(int)\n",
    "\n",
    "def to_inference_pipeline(fitted_imb_pipeline):\n",
    "    \"\"\"\n",
    "    Strip off SMOTE and imblearn.Pipeline by extracting only the fitted preprocess and clf.\n",
    "    Returns a pure sklearn Pipeline which is pickle-safe.\n",
    "    \"\"\"\n",
    "    steps = fitted_imb_pipeline.named_steps\n",
    "    if \"preprocess\" not in steps or \"clf\" not in steps:\n",
    "        raise ValueError(\"Expected steps 'preprocess' and 'clf' in pipeline.\")\n",
    "    preprocess = steps[\"preprocess\"]\n",
    "    clf = steps[\"clf\"]\n",
    "    return SkPipeline(steps=[(\"preprocess\", preprocess), (\"clf\", clf)])"
   ]
  },
  {
   "cell_type": "code",
   "execution_count": null,
   "id": "45128765",
   "metadata": {},
   "outputs": [
    {
     "name": "stdout",
     "output_type": "stream",
     "text": [
      "Model tersimpan ke: C:\\Users\\elekt\\Downloads\\artifacts\\ocbc_churn_sales_fraud_pipeline.joblib\n"
     ]
    }
   ],
   "source": [
    "\n",
    "# Build inference-only pipeline and save\n",
    "inference_pipeline = to_inference_pipeline(best_model)\n",
    "\n",
    "ARTIFACTS_DIR = Path(\"artifacts\")\n",
    "ARTIFACTS_DIR.mkdir(exist_ok=True)\n",
    "MODEL_PATH = ARTIFACTS_DIR / \"ocbc_churn_sales_fraud_pipeline.joblib\"\n",
    "\n",
    "joblib.dump(inference_pipeline, MODEL_PATH, compress=3)\n",
    "print(f\"Model tersimpan ke: {MODEL_PATH.resolve()}\")\n"
   ]
  },
  {
   "cell_type": "code",
   "execution_count": null,
   "id": "508103ae",
   "metadata": {},
   "outputs": [],
   "source": [
    "# Single prediction helper (keeps feature engineering consistent)\n",
    "def predict_single(model, payload: Dict):\n",
    "    \"\"\"\n",
    "    payload example:\n",
    "    {\n",
    "        \"age\": 45, \"job\": \"management\", \"balance\": 1000,\n",
    "        \"housing\": \"yes\", \"loan\": \"no\", \"contact\": \"cellular\",\n",
    "        \"month\": \"may\", \"campaign\": 3, \"pdays\": -1, \"poutcome\": \"failure\"\n",
    "    }\n",
    "    \"\"\"\n",
    "    row = pd.DataFrame([payload]).copy()\n",
    "    # Minimal feature engineering to match training\n",
    "    row = row.assign(\n",
    "        never_contacted_before=lambda d: (d[\"pdays\"] == -1).astype(int),\n",
    "        pdays_processed=lambda d: d[\"pdays\"].replace(-1, np.nan),\n",
    "        month_ord=lambda d: d[\"month\"].astype(str).str.strip().str.lower()\n",
    "            .map({m: i + 1 for i, m in enumerate(month_order)}).fillna(0).astype(int),\n",
    "        has_housing=lambda d: d[\"housing\"].astype(str).str.lower().eq(\"yes\").astype(int),\n",
    "        has_loan=lambda d: d[\"loan\"].astype(str).str.lower().eq(\"yes\").astype(int),\n",
    "        calls_x_contact_unknown=lambda d: d[\"campaign\"] * ((d[\"pdays\"] == -1).astype(int)),\n",
    "    )\n",
    "    # Simulate sales_fraud if the model was trained with it\n",
    "    if \"sales_fraud\" in feature_cols_num:\n",
    "        row[\"deposit\"] = \"no\"  # dummy columns for simulation logic parity\n",
    "        row[\"churn\"] = 0\n",
    "        row[\"sales_fraud\"] = simulate_sales_fraud(row, seed=123).astype(int)\n",
    "\n",
    "    # Select training features in correct order\n",
    "    used_cols = feature_cols_num + feature_cols_cat\n",
    "    row = row[used_cols]\n",
    "\n",
    "    proba = model.predict_proba(row)[:, 1][0]\n",
    "    pred = int(proba >= 0.5)\n",
    "    return {\"predict_churn\": pred, \"proba_churn\": float(proba)}"
   ]
  },
  {
   "cell_type": "code",
   "execution_count": null,
   "id": "ccc1ce0e",
   "metadata": {},
   "outputs": [
    {
     "name": "stdout",
     "output_type": "stream",
     "text": [
      "Sample inference: {'predict_churn': 1, 'proba_churn': 0.6525270248244023}\n"
     ]
    }
   ],
   "source": [
    "\n",
    "# Quick sanity check\n",
    "sample_payload = {\n",
    "    \"age\": 45, \"job\": \"management\", \"balance\": 1200, \"housing\": \"yes\", \"loan\": \"no\",\n",
    "    \"contact\": \"cellular\", \"month\": \"may\", \"campaign\": 5, \"pdays\": -1, \"poutcome\": \"failure\",\n",
    "}\n",
    "loaded = joblib.load(MODEL_PATH)\n",
    "print(\"Sample inference:\", predict_single(loaded, sample_payload))"
   ]
  },
  {
   "cell_type": "markdown",
   "id": "bb05808c",
   "metadata": {},
   "source": [
    "### 14. Deploy Sederhana menggunakan gradio"
   ]
  },
  {
   "cell_type": "code",
   "execution_count": null,
   "id": "19c19e9c",
   "metadata": {},
   "outputs": [
    {
     "name": "stdout",
     "output_type": "stream",
     "text": [
      "* Running on local URL:  http://127.0.0.1:7860\n",
      "* To create a public link, set `share=True` in `launch()`.\n"
     ]
    },
    {
     "data": {
      "text/html": [
       "<div><iframe src=\"http://127.0.0.1:7860/\" width=\"100%\" height=\"500\" allow=\"autoplay; camera; microphone; clipboard-read; clipboard-write;\" frameborder=\"0\" allowfullscreen></iframe></div>"
      ],
      "text/plain": [
       "<IPython.core.display.HTML object>"
      ]
     },
     "metadata": {},
     "output_type": "display_data"
    },
    {
     "data": {
      "text/plain": []
     },
     "execution_count": 62,
     "metadata": {},
     "output_type": "execute_result"
    }
   ],
   "source": [
    "def gradio_predict(age, job, balance, housing, loan, contact, month, campaign, pdays, poutcome):\n",
    "    payload = {\n",
    "        \"age\": int(age),\n",
    "        \"job\": str(job),\n",
    "        \"balance\": int(balance),\n",
    "        \"housing\": str(housing),\n",
    "        \"loan\": str(loan),\n",
    "        \"contact\": str(contact),\n",
    "        \"month\": str(month),\n",
    "        \"campaign\": int(campaign),\n",
    "        \"pdays\": int(pdays),\n",
    "        \"poutcome\": str(poutcome),\n",
    "    }\n",
    "    model = joblib.load(MODEL_PATH)\n",
    "    result = predict_single(model, payload)\n",
    "    return f\"Churn: {result['predict_churn']} | Prob: {result['proba_churn']:.3f}\"\n",
    "\n",
    "jobs = sorted(list(df[\"job\"].astype(str).str.lower().unique()))\n",
    "contacts = sorted(list(df[\"contact\"].astype(str).str.lower().unique()))\n",
    "months = month_order\n",
    "poutcomes = sorted(list(df[\"poutcome\"].astype(str).str.lower().unique()))\n",
    "\n",
    "with gr.Blocks() as demo:\n",
    "    gr.Markdown(\"## OCBC Churn Prediction with Sales Fraud Feature (Demo)\")\n",
    "    with gr.Row():\n",
    "        age = gr.Slider(18, 95, value=40, step=1, label=\"age\")\n",
    "        job = gr.Dropdown(choices=jobs, value=jobs[0], label=\"job\")\n",
    "        balance = gr.Number(value=1000, label=\"balance\")\n",
    "        housing = gr.Dropdown(choices=[\"yes\",\"no\"], value=\"yes\", label=\"housing\")\n",
    "        loan = gr.Dropdown(choices=[\"yes\",\"no\"], value=\"no\", label=\"loan\")\n",
    "    with gr.Row():\n",
    "        contact = gr.Dropdown(choices=[c for c in contacts if c != 'nan'] + [\"unknown\"], value=\"cellular\", label=\"contact\")\n",
    "        month = gr.Dropdown(choices=months, value=\"may\", label=\"month\")\n",
    "        campaign = gr.Slider(1, 50, value=3, step=1, label=\"campaign\")\n",
    "        pdays = gr.Slider(-1, 600, value=-1, step=1, label=\"pdays\")\n",
    "        poutcome = gr.Dropdown(choices=[p for p in poutcomes if p != 'nan'] + [\"unknown\"], value=\"failure\", label=\"poutcome\")\n",
    "    btn = gr.Button(\"Predict\")\n",
    "    out = gr.Textbox(label=\"Result\")\n",
    "    btn.click(fn=gradio_predict, inputs=[age, job, balance, housing, loan, contact, month, campaign, pdays, poutcome], outputs=out)\n",
    "\n",
    "# Untuk menjalankan UI:\n",
    "demo.launch(share=False)\n"
   ]
  },
  {
   "cell_type": "markdown",
   "id": "c2a42adc",
   "metadata": {},
   "source": [
    "### 14.  SUMMARY\n",
    "#### - Kita telah membuat fitur simulasi `sales_fraud` yang meningkatkan kemungkinan churn pada kondisi tertentu.\n",
    "#### - EDA dan ablation menunjukkan bahwa kehadiran `sales_fraud` meningkatkan kemampuan model dalam memprediksi churn, \n",
    "####   sehingga dapat dikatakan churn terpengaruh oleh adanya fraud (sesuai skenario sales yang dilakukan secara sistematis).\n",
    "#### - Model terbaik telah kami simpan dan dapat didemokan melalui UI sederhana dengan Gradio."
   ]
  }
 ],
 "metadata": {
  "kernelspec": {
   "display_name": "Python 3",
   "language": "python",
   "name": "python3"
  },
  "language_info": {
   "codemirror_mode": {
    "name": "ipython",
    "version": 3
   },
   "file_extension": ".py",
   "mimetype": "text/x-python",
   "name": "python",
   "nbconvert_exporter": "python",
   "pygments_lexer": "ipython3",
   "version": "3.13.3"
  }
 },
 "nbformat": 4,
 "nbformat_minor": 5
}
